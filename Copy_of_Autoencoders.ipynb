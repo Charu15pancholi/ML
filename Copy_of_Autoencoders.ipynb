{
  "nbformat": 4,
  "nbformat_minor": 0,
  "metadata": {
    "colab": {
      "provenance": [],
      "include_colab_link": true
    },
    "kernelspec": {
      "name": "python3",
      "display_name": "Python 3"
    }
  },
  "cells": [
    {
      "cell_type": "markdown",
      "metadata": {
        "id": "view-in-github",
        "colab_type": "text"
      },
      "source": [
        "<a href=\"https://colab.research.google.com/github/Anjalijahagirdar/ML-/blob/main/Copy_of_Autoencoders.ipynb\" target=\"_parent\"><img src=\"https://colab.research.google.com/assets/colab-badge.svg\" alt=\"Open In Colab\"/></a>"
      ]
    },
    {
      "cell_type": "code",
      "metadata": {
        "id": "WQl8TSiHSOCU"
      },
      "source": [
        "from keras.layers import Input, Dense\n",
        "from keras.models import Model\n",
        "\n",
        "# this is the size of our encoded representations\n",
        "encoding_dim = 128  # 32 floats -> compression of factor 24.5, assuming the input is 784 floats\n",
        "\n",
        "# this is our input placeholder\n",
        "input_img = Input(shape=(784,))\n",
        "# \"encoded\" is the encoded representation of the input\n",
        "encoded = Dense(encoding_dim, activation='relu')(input_img)\n",
        "# \"decoded\" is the lossy reconstruction of the input\n",
        "decoded = Dense(784, activation='sigmoid')(encoded)\n",
        "\n",
        "# this model maps an input to its reconstruction\n",
        "autoencoder = Model(input_img, decoded)"
      ],
      "execution_count": 15,
      "outputs": []
    },
    {
      "cell_type": "code",
      "metadata": {
        "id": "Gq173u9YSTvU"
      },
      "source": [
        "# this model maps an input to its encoded representation\n",
        "encoder = Model(input_img, encoded)"
      ],
      "execution_count": 16,
      "outputs": []
    },
    {
      "cell_type": "code",
      "metadata": {
        "id": "q3K4BB0VSbfD"
      },
      "source": [
        "# create a placeholder for an encoded (32-dimensional) input\n",
        "encoded_input = Input(shape=(encoding_dim,))\n",
        "# retrieve the last layer of the autoencoder model\n",
        "decoder_layer = autoencoder.layers[-1]\n",
        "# create the decoder model\n",
        "decoder = Model(encoded_input, decoder_layer(encoded_input))"
      ],
      "execution_count": 17,
      "outputs": []
    },
    {
      "cell_type": "code",
      "metadata": {
        "id": "txJYhPm1SfLq"
      },
      "source": [
        "autoencoder.compile(optimizer='RMSprop', loss='binary_crossentropy')"
      ],
      "execution_count": 18,
      "outputs": []
    },
    {
      "cell_type": "code",
      "metadata": {
        "id": "ox4PzfObSiQd"
      },
      "source": [
        "from keras.datasets import mnist\n",
        "import numpy as np\n",
        "(x_train, _), (x_test, _) = mnist.load_data()"
      ],
      "execution_count": 19,
      "outputs": []
    },
    {
      "cell_type": "code",
      "metadata": {
        "id": "5riYiwmoSlDz",
        "colab": {
          "base_uri": "https://localhost:8080/"
        },
        "outputId": "27095883-96f8-492b-a575-d4bbbc9ae09c"
      },
      "source": [
        "x_train = x_train.astype('float32') / 255.\n",
        "x_test = x_test.astype('float32') / 255.\n",
        "x_train = x_train.reshape((len(x_train), np.prod(x_train.shape[1:])))\n",
        "x_test = x_test.reshape((len(x_test), np.prod(x_test.shape[1:])))\n",
        "print (x_train.shape)\n",
        "print (x_test.shape)"
      ],
      "execution_count": 20,
      "outputs": [
        {
          "output_type": "stream",
          "name": "stdout",
          "text": [
            "(60000, 784)\n",
            "(10000, 784)\n"
          ]
        }
      ]
    },
    {
      "cell_type": "code",
      "metadata": {
        "id": "zzkP2dNISsfq",
        "colab": {
          "base_uri": "https://localhost:8080/"
        },
        "outputId": "5fdbf4d3-f729-4391-e1d0-bc36a664749d"
      },
      "source": [
        "autoencoder.fit(x_train, x_train,\n",
        "                epochs=75,\n",
        "                batch_size= 256,\n",
        "                shuffle=True,\n",
        "                validation_data=(x_test, x_test))"
      ],
      "execution_count": 21,
      "outputs": [
        {
          "output_type": "stream",
          "name": "stdout",
          "text": [
            "Epoch 1/75\n",
            "235/235 [==============================] - 5s 18ms/step - loss: 0.2744 - val_loss: 0.2063\n",
            "Epoch 2/75\n",
            "235/235 [==============================] - 6s 25ms/step - loss: 0.1861 - val_loss: 0.1682\n",
            "Epoch 3/75\n",
            "235/235 [==============================] - 5s 21ms/step - loss: 0.1591 - val_loss: 0.1485\n",
            "Epoch 4/75\n",
            "235/235 [==============================] - 3s 15ms/step - loss: 0.1430 - val_loss: 0.1359\n",
            "Epoch 5/75\n",
            "235/235 [==============================] - 4s 15ms/step - loss: 0.1316 - val_loss: 0.1256\n",
            "Epoch 6/75\n",
            "235/235 [==============================] - 5s 20ms/step - loss: 0.1226 - val_loss: 0.1173\n",
            "Epoch 7/75\n",
            "235/235 [==============================] - 3s 15ms/step - loss: 0.1153 - val_loss: 0.1107\n",
            "Epoch 8/75\n",
            "235/235 [==============================] - 3s 15ms/step - loss: 0.1093 - val_loss: 0.1054\n",
            "Epoch 9/75\n",
            "235/235 [==============================] - 4s 17ms/step - loss: 0.1043 - val_loss: 0.1007\n",
            "Epoch 10/75\n",
            "235/235 [==============================] - 4s 17ms/step - loss: 0.1002 - val_loss: 0.0972\n",
            "Epoch 11/75\n",
            "235/235 [==============================] - 3s 15ms/step - loss: 0.0970 - val_loss: 0.0942\n",
            "Epoch 12/75\n",
            "235/235 [==============================] - 3s 15ms/step - loss: 0.0943 - val_loss: 0.0919\n",
            "Epoch 13/75\n",
            "235/235 [==============================] - 5s 19ms/step - loss: 0.0921 - val_loss: 0.0899\n",
            "Epoch 14/75\n",
            "235/235 [==============================] - 4s 15ms/step - loss: 0.0902 - val_loss: 0.0882\n",
            "Epoch 15/75\n",
            "235/235 [==============================] - 3s 15ms/step - loss: 0.0886 - val_loss: 0.0868\n",
            "Epoch 16/75\n",
            "235/235 [==============================] - 4s 18ms/step - loss: 0.0873 - val_loss: 0.0856\n",
            "Epoch 17/75\n",
            "235/235 [==============================] - 3s 15ms/step - loss: 0.0861 - val_loss: 0.0845\n",
            "Epoch 18/75\n",
            "235/235 [==============================] - 3s 14ms/step - loss: 0.0851 - val_loss: 0.0835\n",
            "Epoch 19/75\n",
            "235/235 [==============================] - 4s 17ms/step - loss: 0.0841 - val_loss: 0.0827\n",
            "Epoch 20/75\n",
            "235/235 [==============================] - 4s 18ms/step - loss: 0.0833 - val_loss: 0.0819\n",
            "Epoch 21/75\n",
            "235/235 [==============================] - 3s 14ms/step - loss: 0.0826 - val_loss: 0.0812\n",
            "Epoch 22/75\n",
            "235/235 [==============================] - 4s 18ms/step - loss: 0.0819 - val_loss: 0.0806\n",
            "Epoch 23/75\n",
            "235/235 [==============================] - 4s 19ms/step - loss: 0.0813 - val_loss: 0.0800\n",
            "Epoch 24/75\n",
            "235/235 [==============================] - 3s 14ms/step - loss: 0.0807 - val_loss: 0.0795\n",
            "Epoch 25/75\n",
            "235/235 [==============================] - 3s 14ms/step - loss: 0.0801 - val_loss: 0.0790\n",
            "Epoch 26/75\n",
            "235/235 [==============================] - 4s 16ms/step - loss: 0.0797 - val_loss: 0.0785\n",
            "Epoch 27/75\n",
            "235/235 [==============================] - 4s 17ms/step - loss: 0.0792 - val_loss: 0.0781\n",
            "Epoch 28/75\n",
            "235/235 [==============================] - 3s 14ms/step - loss: 0.0788 - val_loss: 0.0778\n",
            "Epoch 29/75\n",
            "235/235 [==============================] - 3s 14ms/step - loss: 0.0784 - val_loss: 0.0774\n",
            "Epoch 30/75\n",
            "235/235 [==============================] - 4s 19ms/step - loss: 0.0780 - val_loss: 0.0770\n",
            "Epoch 31/75\n",
            "235/235 [==============================] - 3s 14ms/step - loss: 0.0776 - val_loss: 0.0767\n",
            "Epoch 32/75\n",
            "235/235 [==============================] - 3s 14ms/step - loss: 0.0773 - val_loss: 0.0763\n",
            "Epoch 33/75\n",
            "235/235 [==============================] - 3s 14ms/step - loss: 0.0770 - val_loss: 0.0761\n",
            "Epoch 34/75\n",
            "235/235 [==============================] - 4s 19ms/step - loss: 0.0767 - val_loss: 0.0758\n",
            "Epoch 35/75\n",
            "235/235 [==============================] - 3s 14ms/step - loss: 0.0764 - val_loss: 0.0755\n",
            "Epoch 36/75\n",
            "235/235 [==============================] - 3s 14ms/step - loss: 0.0761 - val_loss: 0.0753\n",
            "Epoch 37/75\n",
            "235/235 [==============================] - 4s 18ms/step - loss: 0.0759 - val_loss: 0.0750\n",
            "Epoch 38/75\n",
            "235/235 [==============================] - 4s 15ms/step - loss: 0.0756 - val_loss: 0.0748\n",
            "Epoch 39/75\n",
            "235/235 [==============================] - 3s 14ms/step - loss: 0.0754 - val_loss: 0.0746\n",
            "Epoch 40/75\n",
            "235/235 [==============================] - 3s 14ms/step - loss: 0.0752 - val_loss: 0.0743\n",
            "Epoch 41/75\n",
            "235/235 [==============================] - 5s 19ms/step - loss: 0.0749 - val_loss: 0.0742\n",
            "Epoch 42/75\n",
            "235/235 [==============================] - 3s 14ms/step - loss: 0.0747 - val_loss: 0.0740\n",
            "Epoch 43/75\n",
            "235/235 [==============================] - 3s 14ms/step - loss: 0.0745 - val_loss: 0.0738\n",
            "Epoch 44/75\n",
            "235/235 [==============================] - 4s 18ms/step - loss: 0.0744 - val_loss: 0.0736\n",
            "Epoch 45/75\n",
            "235/235 [==============================] - 4s 16ms/step - loss: 0.0742 - val_loss: 0.0734\n",
            "Epoch 46/75\n",
            "235/235 [==============================] - 3s 14ms/step - loss: 0.0740 - val_loss: 0.0733\n",
            "Epoch 47/75\n",
            "235/235 [==============================] - 3s 14ms/step - loss: 0.0738 - val_loss: 0.0732\n",
            "Epoch 48/75\n",
            "235/235 [==============================] - 4s 19ms/step - loss: 0.0737 - val_loss: 0.0730\n",
            "Epoch 49/75\n",
            "235/235 [==============================] - 3s 14ms/step - loss: 0.0735 - val_loss: 0.0728\n",
            "Epoch 50/75\n",
            "235/235 [==============================] - 4s 15ms/step - loss: 0.0734 - val_loss: 0.0727\n",
            "Epoch 51/75\n",
            "235/235 [==============================] - 4s 17ms/step - loss: 0.0732 - val_loss: 0.0726\n",
            "Epoch 52/75\n",
            "235/235 [==============================] - 4s 17ms/step - loss: 0.0731 - val_loss: 0.0724\n",
            "Epoch 53/75\n",
            "235/235 [==============================] - 3s 15ms/step - loss: 0.0730 - val_loss: 0.0723\n",
            "Epoch 54/75\n",
            "235/235 [==============================] - 3s 14ms/step - loss: 0.0728 - val_loss: 0.0722\n",
            "Epoch 55/75\n",
            "235/235 [==============================] - 4s 19ms/step - loss: 0.0727 - val_loss: 0.0721\n",
            "Epoch 56/75\n",
            "235/235 [==============================] - 3s 15ms/step - loss: 0.0726 - val_loss: 0.0720\n",
            "Epoch 57/75\n",
            "235/235 [==============================] - 3s 14ms/step - loss: 0.0725 - val_loss: 0.0719\n",
            "Epoch 58/75\n",
            "235/235 [==============================] - 4s 18ms/step - loss: 0.0724 - val_loss: 0.0717\n",
            "Epoch 59/75\n",
            "235/235 [==============================] - 4s 16ms/step - loss: 0.0723 - val_loss: 0.0716\n",
            "Epoch 60/75\n",
            "235/235 [==============================] - 3s 14ms/step - loss: 0.0722 - val_loss: 0.0715\n",
            "Epoch 61/75\n",
            "235/235 [==============================] - 3s 15ms/step - loss: 0.0721 - val_loss: 0.0715\n",
            "Epoch 62/75\n",
            "235/235 [==============================] - 4s 19ms/step - loss: 0.0720 - val_loss: 0.0714\n",
            "Epoch 63/75\n",
            "235/235 [==============================] - 3s 15ms/step - loss: 0.0719 - val_loss: 0.0713\n",
            "Epoch 64/75\n",
            "235/235 [==============================] - 3s 14ms/step - loss: 0.0718 - val_loss: 0.0712\n",
            "Epoch 65/75\n",
            "235/235 [==============================] - 4s 18ms/step - loss: 0.0717 - val_loss: 0.0711\n",
            "Epoch 66/75\n",
            "235/235 [==============================] - 4s 16ms/step - loss: 0.0716 - val_loss: 0.0710\n",
            "Epoch 67/75\n",
            "235/235 [==============================] - 3s 15ms/step - loss: 0.0715 - val_loss: 0.0710\n",
            "Epoch 68/75\n",
            "235/235 [==============================] - 3s 15ms/step - loss: 0.0714 - val_loss: 0.0709\n",
            "Epoch 69/75\n",
            "235/235 [==============================] - 4s 19ms/step - loss: 0.0713 - val_loss: 0.0708\n",
            "Epoch 70/75\n",
            "235/235 [==============================] - 3s 15ms/step - loss: 0.0713 - val_loss: 0.0707\n",
            "Epoch 71/75\n",
            "235/235 [==============================] - 3s 15ms/step - loss: 0.0712 - val_loss: 0.0707\n",
            "Epoch 72/75\n",
            "235/235 [==============================] - 4s 19ms/step - loss: 0.0711 - val_loss: 0.0706\n",
            "Epoch 73/75\n",
            "235/235 [==============================] - 4s 15ms/step - loss: 0.0710 - val_loss: 0.0705\n",
            "Epoch 74/75\n",
            "235/235 [==============================] - 3s 15ms/step - loss: 0.0710 - val_loss: 0.0705\n",
            "Epoch 75/75\n",
            "235/235 [==============================] - 3s 15ms/step - loss: 0.0709 - val_loss: 0.0704\n"
          ]
        },
        {
          "output_type": "execute_result",
          "data": {
            "text/plain": [
              "<keras.src.callbacks.History at 0x79b440726e30>"
            ]
          },
          "metadata": {},
          "execution_count": 21
        }
      ]
    },
    {
      "cell_type": "code",
      "metadata": {
        "id": "OUr7fRVwSwHY",
        "colab": {
          "base_uri": "https://localhost:8080/"
        },
        "outputId": "b2e463eb-1116-45ff-ce38-2112505f1581"
      },
      "source": [
        "# encode and decode some digits\n",
        "# note that we take them from the *test* set\n",
        "encoded_imgs = encoder.predict(x_test)\n",
        "decoded_imgs = decoder.predict(encoded_imgs)"
      ],
      "execution_count": 22,
      "outputs": [
        {
          "output_type": "stream",
          "name": "stdout",
          "text": [
            "313/313 [==============================] - 1s 2ms/step\n",
            "313/313 [==============================] - 1s 2ms/step\n"
          ]
        }
      ]
    },
    {
      "cell_type": "code",
      "metadata": {
        "id": "HqkoJw8xSzH1",
        "colab": {
          "base_uri": "https://localhost:8080/",
          "height": 270
        },
        "outputId": "64e46d86-5a53-4268-a512-c2a0613b9ae4"
      },
      "source": [
        "# use Matplotlib (don't ask)\n",
        "import matplotlib.pyplot as plt\n",
        "\n",
        "n = 10  # how many digits we will display\n",
        "plt.figure(figsize=(20, 4))\n",
        "for i in range(n):\n",
        "    # display original\n",
        "    ax = plt.subplot(2, n, i + 1)\n",
        "    plt.imshow(x_test[i].reshape(28, 28))\n",
        "    plt.gray()\n",
        "    ax.get_xaxis().set_visible(False)\n",
        "    ax.get_yaxis().set_visible(False)\n",
        "\n",
        "    # display reconstruction\n",
        "    ax = plt.subplot(2, n, i + 1 + n)\n",
        "    plt.imshow(decoded_imgs[i].reshape(28, 28))\n",
        "    plt.gray()\n",
        "    ax.get_xaxis().set_visible(False)\n",
        "    ax.get_yaxis().set_visible(False)\n",
        "plt.show()"
      ],
      "execution_count": 23,
      "outputs": [
        {
          "output_type": "display_data",
          "data": {
            "text/plain": [
              "<Figure size 2000x400 with 20 Axes>"
            ],
            "image/png": "[encoded data removed]"
          },
          "metadata": {}
        }
      ]
    },
    {
      "cell_type": "code",
      "source": [
        "from keras.layers import Input, Dense\n",
        "from keras.models import Model\n",
        "\n",
        "# Define the size of the encoded representation\n",
        "encoding_dim = 32  # 32 floats -> compression of factor 24.5, assuming the input is 784 floats\n",
        "\n",
        "# Input placeholder\n",
        "input_img = Input(shape=(784,))\n",
        "\n",
        "# Encoding layers\n",
        "encoded = Dense(128, activation='relu')(input_img)\n",
        "encoded = Dense(64, activation='relu')(encoded)\n",
        "encoded = Dense(encoding_dim, activation='relu')(encoded)\n",
        "\n",
        "# Decoding layers\n",
        "decoded = Dense(64, activation='relu')(encoded)\n",
        "decoded = Dense(128, activation='relu')(decoded)\n",
        "decoded = Dense(784, activation='sigmoid')(decoded)\n",
        "\n",
        "# Autoencoder model\n",
        "autoencoder = Model(input_img, decoded)\n",
        "\n",
        "# Encoder model\n",
        "encoder = Model(input_img, encoded)\n",
        "\n",
        "# Decoder model\n",
        "encoded_input = Input(shape=(encoding_dim,))\n",
        "decoder_layer1 = autoencoder.layers[-3]\n",
        "decoder_layer2 = autoencoder.layers[-2]\n",
        "decoder_layer3 = autoencoder.layers[-1]\n",
        "decoder = Model(encoded_input, decoder_layer3(decoder_layer2(decoder_layer1(encoded_input))))\n"
      ],
      "metadata": {
        "id": "ODd0yFC1bl7l"
      },
      "execution_count": 24,
      "outputs": []
    },
    {
      "cell_type": "code",
      "source": [
        "# Compile the model\n",
        "autoencoder.compile(optimizer='adam', loss='binary_crossentropy')\n",
        "\n",
        "# Train the model\n",
        "autoencoder.fit(x_train, x_train,\n",
        "                epochs=50,\n",
        "                batch_size=256,\n",
        "                shuffle=True,\n",
        "                validation_data=(x_test, x_test))\n",
        "\n"
      ],
      "metadata": {
        "colab": {
          "base_uri": "https://localhost:8080/"
        },
        "id": "pedaPEaRcAic",
        "outputId": "cd326542-ab2e-4aaa-a026-9237c6ca3ff8"
      },
      "execution_count": 25,
      "outputs": [
        {
          "output_type": "stream",
          "name": "stdout",
          "text": [
            "Epoch 1/50\n",
            "235/235 [==============================] - 5s 17ms/step - loss: 0.2525 - val_loss: 0.1719\n",
            "Epoch 2/50\n",
            "235/235 [==============================] - 4s 16ms/step - loss: 0.1534 - val_loss: 0.1395\n",
            "Epoch 3/50\n",
            "235/235 [==============================] - 5s 21ms/step - loss: 0.1345 - val_loss: 0.1266\n",
            "Epoch 4/50\n",
            "235/235 [==============================] - 4s 16ms/step - loss: 0.1245 - val_loss: 0.1195\n",
            "Epoch 5/50\n",
            "235/235 [==============================] - 4s 16ms/step - loss: 0.1189 - val_loss: 0.1152\n",
            "Epoch 6/50\n",
            "235/235 [==============================] - 5s 21ms/step - loss: 0.1154 - val_loss: 0.1123\n",
            "Epoch 7/50\n",
            "235/235 [==============================] - 4s 16ms/step - loss: 0.1124 - val_loss: 0.1103\n",
            "Epoch 8/50\n",
            "235/235 [==============================] - 4s 16ms/step - loss: 0.1098 - val_loss: 0.1072\n",
            "Epoch 9/50\n",
            "235/235 [==============================] - 5s 20ms/step - loss: 0.1074 - val_loss: 0.1059\n",
            "Epoch 10/50\n",
            "235/235 [==============================] - 4s 16ms/step - loss: 0.1052 - val_loss: 0.1031\n",
            "Epoch 11/50\n",
            "235/235 [==============================] - 4s 16ms/step - loss: 0.1035 - val_loss: 0.1018\n",
            "Epoch 12/50\n",
            "235/235 [==============================] - 5s 19ms/step - loss: 0.1023 - val_loss: 0.1011\n",
            "Epoch 13/50\n",
            "235/235 [==============================] - 4s 17ms/step - loss: 0.1012 - val_loss: 0.0996\n",
            "Epoch 14/50\n",
            "235/235 [==============================] - 4s 16ms/step - loss: 0.1002 - val_loss: 0.0993\n",
            "Epoch 15/50\n",
            "235/235 [==============================] - 5s 19ms/step - loss: 0.0992 - val_loss: 0.0978\n",
            "Epoch 16/50\n",
            "235/235 [==============================] - 4s 18ms/step - loss: 0.0980 - val_loss: 0.0966\n",
            "Epoch 17/50\n",
            "235/235 [==============================] - 4s 16ms/step - loss: 0.0970 - val_loss: 0.0958\n",
            "Epoch 18/50\n",
            "235/235 [==============================] - 4s 19ms/step - loss: 0.0960 - val_loss: 0.0948\n",
            "Epoch 19/50\n",
            "235/235 [==============================] - 5s 20ms/step - loss: 0.0952 - val_loss: 0.0941\n",
            "Epoch 20/50\n",
            "235/235 [==============================] - 4s 16ms/step - loss: 0.0946 - val_loss: 0.0938\n",
            "Epoch 21/50\n",
            "235/235 [==============================] - 4s 18ms/step - loss: 0.0940 - val_loss: 0.0931\n",
            "Epoch 22/50\n",
            "235/235 [==============================] - 4s 19ms/step - loss: 0.0934 - val_loss: 0.0925\n",
            "Epoch 23/50\n",
            "235/235 [==============================] - 4s 16ms/step - loss: 0.0928 - val_loss: 0.0924\n",
            "Epoch 24/50\n",
            "235/235 [==============================] - 4s 17ms/step - loss: 0.0924 - val_loss: 0.0913\n",
            "Epoch 25/50\n",
            "235/235 [==============================] - 5s 20ms/step - loss: 0.0918 - val_loss: 0.0913\n",
            "Epoch 26/50\n",
            "235/235 [==============================] - 4s 16ms/step - loss: 0.0914 - val_loss: 0.0907\n",
            "Epoch 27/50\n",
            "235/235 [==============================] - 4s 16ms/step - loss: 0.0910 - val_loss: 0.0904\n",
            "Epoch 28/50\n",
            "235/235 [==============================] - 5s 21ms/step - loss: 0.0907 - val_loss: 0.0900\n",
            "Epoch 29/50\n",
            "235/235 [==============================] - 4s 16ms/step - loss: 0.0903 - val_loss: 0.0896\n",
            "Epoch 30/50\n",
            "235/235 [==============================] - 4s 16ms/step - loss: 0.0900 - val_loss: 0.0896\n",
            "Epoch 31/50\n",
            "235/235 [==============================] - 5s 21ms/step - loss: 0.0897 - val_loss: 0.0890\n",
            "Epoch 32/50\n",
            "235/235 [==============================] - 4s 16ms/step - loss: 0.0895 - val_loss: 0.0889\n",
            "Epoch 33/50\n",
            "235/235 [==============================] - 4s 16ms/step - loss: 0.0892 - val_loss: 0.0885\n",
            "Epoch 34/50\n",
            "235/235 [==============================] - 5s 21ms/step - loss: 0.0890 - val_loss: 0.0887\n",
            "Epoch 35/50\n",
            "235/235 [==============================] - 4s 16ms/step - loss: 0.0888 - val_loss: 0.0882\n",
            "Epoch 36/50\n",
            "235/235 [==============================] - 4s 16ms/step - loss: 0.0886 - val_loss: 0.0883\n",
            "Epoch 37/50\n",
            "235/235 [==============================] - 5s 20ms/step - loss: 0.0885 - val_loss: 0.0879\n",
            "Epoch 38/50\n",
            "235/235 [==============================] - 4s 16ms/step - loss: 0.0883 - val_loss: 0.0880\n",
            "Epoch 39/50\n",
            "235/235 [==============================] - 4s 16ms/step - loss: 0.0881 - val_loss: 0.0880\n",
            "Epoch 40/50\n",
            "235/235 [==============================] - 5s 20ms/step - loss: 0.0880 - val_loss: 0.0875\n",
            "Epoch 41/50\n",
            "235/235 [==============================] - 4s 17ms/step - loss: 0.0879 - val_loss: 0.0874\n",
            "Epoch 42/50\n",
            "235/235 [==============================] - 4s 16ms/step - loss: 0.0877 - val_loss: 0.0880\n",
            "Epoch 43/50\n",
            "235/235 [==============================] - 4s 18ms/step - loss: 0.0876 - val_loss: 0.0871\n",
            "Epoch 44/50\n",
            "235/235 [==============================] - 4s 18ms/step - loss: 0.0875 - val_loss: 0.0870\n",
            "Epoch 45/50\n",
            "235/235 [==============================] - 4s 16ms/step - loss: 0.0874 - val_loss: 0.0869\n",
            "Epoch 46/50\n",
            "235/235 [==============================] - 4s 17ms/step - loss: 0.0872 - val_loss: 0.0868\n",
            "Epoch 47/50\n",
            "235/235 [==============================] - 4s 19ms/step - loss: 0.0872 - val_loss: 0.0867\n",
            "Epoch 48/50\n",
            "235/235 [==============================] - 4s 16ms/step - loss: 0.0870 - val_loss: 0.0866\n",
            "Epoch 49/50\n",
            "235/235 [==============================] - 4s 16ms/step - loss: 0.0870 - val_loss: 0.0869\n",
            "Epoch 50/50\n",
            "235/235 [==============================] - 5s 20ms/step - loss: 0.0869 - val_loss: 0.0865\n"
          ]
        },
        {
          "output_type": "execute_result",
          "data": {
            "text/plain": [
              "<keras.src.callbacks.History at 0x79b440a765c0>"
            ]
          },
          "metadata": {},
          "execution_count": 25
        }
      ]
    },
    {
      "cell_type": "code",
      "source": [
        "# encode and decode some digits\n",
        "# note that we take them from the *test* set\n",
        "encoded_imgs = encoder.predict(x_test)\n",
        "decoded_imgs = decoder.predict(encoded_imgs)"
      ],
      "metadata": {
        "colab": {
          "base_uri": "https://localhost:8080/"
        },
        "id": "NKK5C_rlcNDl",
        "outputId": "5cd64539-d669-488f-af28-0a8510995879"
      },
      "execution_count": 26,
      "outputs": [
        {
          "output_type": "stream",
          "name": "stdout",
          "text": [
            "313/313 [==============================] - 1s 2ms/step\n",
            "313/313 [==============================] - 1s 2ms/step\n"
          ]
        }
      ]
    },
    {
      "cell_type": "code",
      "source": [
        "# use Matplotlib (don't ask)\n",
        "import matplotlib.pyplot as plt\n",
        "\n",
        "n = 10  # how many digits we will display\n",
        "plt.figure(figsize=(20, 4))\n",
        "for i in range(n):\n",
        "    # display original\n",
        "    ax = plt.subplot(2, n, i + 1)\n",
        "    plt.imshow(x_test[i].reshape(28, 28))\n",
        "    plt.gray()\n",
        "    ax.get_xaxis().set_visible(False)\n",
        "    ax.get_yaxis().set_visible(False)\n",
        "\n",
        "    # display reconstruction\n",
        "    ax = plt.subplot(2, n, i + 1 + n)\n",
        "    plt.imshow(decoded_imgs[i].reshape(28, 28))\n",
        "    plt.gray()\n",
        "    ax.get_xaxis().set_visible(False)\n",
        "    ax.get_yaxis().set_visible(False)\n",
        "plt.show()"
      ],
      "metadata": {
        "colab": {
          "base_uri": "https://localhost:8080/",
          "height": 270
        },
        "id": "ZQA_n46BcI47",
        "outputId": "30793075-0e08-4044-c126-8dcea5712581"
      },
      "execution_count": 27,
      "outputs": [
        {
          "output_type": "display_data",
          "data": {
            "text/plain": [
              "<Figure size 2000x400 with 20 Axes>"
            ],
            "image/png": "[encoded data removed]"
          },
          "metadata": {}
        }
      ]
    }
  ]
}