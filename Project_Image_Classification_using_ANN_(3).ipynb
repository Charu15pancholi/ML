{
  "nbformat": 4,
  "nbformat_minor": 0,
  "metadata": {
    "colab": {
      "provenance": [],
      "include_colab_link": true
    },
    "kernelspec": {
      "name": "python3",
      "display_name": "Python 3"
    },
    "language_info": {
      "name": "python"
    },
    "accelerator": "GPU"
  },
  "cells": [
    {
      "cell_type": "markdown",
      "metadata": {
        "id": "view-in-github",
        "colab_type": "text"
      },
      "source": [
        "<a href=\"https://colab.research.google.com/github/Anjalijahagirdar/ML-/blob/main/Project_Image_Classification_using_ANN_(3).ipynb\" target=\"_parent\"><img src=\"https://colab.research.google.com/assets/colab-badge.svg\" alt=\"Open In Colab\"/></a>"
      ]
    },
    {
      "cell_type": "markdown",
      "metadata": {
        "id": "JT4a4dwlqhsd"
      },
      "source": [
        "# Joint Online Faculty Development programme on Deep Learning (Parallel Architecture) Aug 23 – Sep 3 , 2021"
      ]
    },
    {
      "cell_type": "markdown",
      "metadata": {
        "id": "XwMdAK1XqmPI"
      },
      "source": [
        "# Tutorial 4: Covid 19 Prediction using Artificial Neural Networks"
      ]
    },
    {
      "cell_type": "markdown",
      "metadata": {
        "id": "y9dbM1bxjvnU"
      },
      "source": [
        "Dataset: [Covid 19 Chest X-ray dataset](https://www.kaggle.com/tawsifurrahman/covid19-radiography-database)\n",
        "\n",
        "\n",
        "A team of researchers from Qatar University, Doha, Qatar, and the University of Dhaka, Bangladesh along with their collaborators from Pakistan and Malaysia in collaboration with medical doctors have created a database of chest X-ray images for COVID-19 positive cases along with Normal and Viral Pneumonia images. This COVID-19, normal, and other lung infection dataset is released in stages. In the first release, we have released 219 COVID-19, 1341 normal, and 1345 viral pneumonia chest X-ray (CXR) images. In the first update, we have increased the COVID-19 class to 1200 CXR images. In the 2nd update, we have increased the database to 3616 COVID-19 positive cases along with 10,192 Normal, 6012 Lung Opacity (Non-COVID lung infection), and 1345 Viral Pneumonia images. We will continue to update this database as soon as we have new x-ray images for COVID-19 pneumonia patients.\n",
        "\n"
      ]
    },
    {
      "cell_type": "markdown",
      "metadata": {
        "id": "9mHnC6nNtBK1"
      },
      "source": [
        "**1. Mount the Google Drive**"
      ]
    },
    {
      "cell_type": "code",
      "metadata": {
        "id": "gORvsC4_s_fY",
        "colab": {
          "base_uri": "https://localhost:8080/"
        },
        "outputId": "8093fb65-7134-496b-a073-23d44d53322f"
      },
      "source": [
        "from google.colab import drive\n",
        "drive.mount('/content/drive')"
      ],
      "execution_count": 1,
      "outputs": [
        {
          "output_type": "stream",
          "name": "stdout",
          "text": [
            "Mounted at /content/drive\n"
          ]
        }
      ]
    },
    {
      "cell_type": "markdown",
      "metadata": {
        "id": "wiZOocimtGeu"
      },
      "source": [
        "**2. Move to the place where data resides**"
      ]
    },
    {
      "cell_type": "code",
      "metadata": {
        "id": "EdbGFIkPlah9"
      },
      "source": [
        "!cd /content/drive/MyDrive/CSIT1/"
      ],
      "execution_count": 2,
      "outputs": []
    },
    {
      "cell_type": "code",
      "source": [
        "!pwd\n"
      ],
      "metadata": {
        "colab": {
          "base_uri": "https://localhost:8080/"
        },
        "id": "4DnwwyuhBGTf",
        "outputId": "af45aa09-881e-4b91-fe96-3ae9acc53ef4"
      },
      "execution_count": 3,
      "outputs": [
        {
          "output_type": "stream",
          "name": "stdout",
          "text": [
            "/content\n"
          ]
        }
      ]
    },
    {
      "cell_type": "code",
      "metadata": {
        "id": "lqViJFpyjxJZ",
        "colab": {
          "base_uri": "https://localhost:8080/"
        },
        "outputId": "d989d30a-2c46-41c4-a4b5-52728637327e"
      },
      "source": [
        "!ls"
      ],
      "execution_count": 4,
      "outputs": [
        {
          "output_type": "stream",
          "name": "stdout",
          "text": [
            "drive  sample_data\n"
          ]
        }
      ]
    },
    {
      "cell_type": "markdown",
      "metadata": {
        "id": "0e8v2RY-tKUs"
      },
      "source": [
        "**3. Unziping the dataset**"
      ]
    },
    {
      "cell_type": "code",
      "source": [
        "!pip install unzip"
      ],
      "metadata": {
        "colab": {
          "base_uri": "https://localhost:8080/"
        },
        "id": "PYfX_i50jzOc",
        "outputId": "f5a36366-45a3-46e9-fb4b-5e83cb60b54d"
      },
      "execution_count": 5,
      "outputs": [
        {
          "output_type": "stream",
          "name": "stdout",
          "text": [
            "Collecting unzip\n",
            "  Downloading unzip-1.0.0.tar.gz (704 bytes)\n",
            "  Preparing metadata (setup.py) ... \u001b[?25l\u001b[?25hdone\n",
            "Building wheels for collected packages: unzip\n",
            "  Building wheel for unzip (setup.py) ... \u001b[?25l\u001b[?25hdone\n",
            "  Created wheel for unzip: filename=unzip-1.0.0-py3-none-any.whl size=1283 sha256=bc4e2dcaf895b3199c3d8b057fcbd04fde5647ae43bc00f73bda72084538a586\n",
            "  Stored in directory: /root/.cache/pip/wheels/80/dc/7a/f8af45bc239e7933509183f038ea8d46f3610aab82b35369f4\n",
            "Successfully built unzip\n",
            "Installing collected packages: unzip\n",
            "Successfully installed unzip-1.0.0\n"
          ]
        }
      ]
    },
    {
      "cell_type": "code",
      "metadata": {
        "id": "kOWDshT6lb8K",
        "colab": {
          "base_uri": "https://localhost:8080/"
        },
        "outputId": "bc08a459-8629-4d3c-ed2d-fe92420bb077"
      },
      "source": [
        "!unzip  /content/drive/MyDrive/CSIT1/covid_dataset.zip"
      ],
      "execution_count": 6,
      "outputs": [
        {
          "output_type": "stream",
          "name": "stdout",
          "text": [
            "Archive:  /content/drive/MyDrive/CSIT1/covid_dataset.zip\n",
            "   creating: covid_dataset/\n",
            "   creating: covid_dataset/COVID/\n",
            "  inflating: covid_dataset/COVID/COVID-1.png  \n",
            "  inflating: covid_dataset/COVID/COVID-10.png  \n",
            "  inflating: covid_dataset/COVID/COVID-11.png  \n",
            "  inflating: covid_dataset/COVID/COVID-12.png  \n",
            "  inflating: covid_dataset/COVID/COVID-13.png  \n",
            "  inflating: covid_dataset/COVID/COVID-14.png  \n",
            "  inflating: covid_dataset/COVID/COVID-15.png  \n",
            "  inflating: covid_dataset/COVID/COVID-16.png  \n",
            "  inflating: covid_dataset/COVID/COVID-17.png  \n",
            "  inflating: covid_dataset/COVID/COVID-18.png  \n",
            "  inflating: covid_dataset/COVID/COVID-19.png  \n",
            "  inflating: covid_dataset/COVID/COVID-2.png  \n",
            "  inflating: covid_dataset/COVID/COVID-20.png  \n",
            "  inflating: covid_dataset/COVID/COVID-21.png  \n",
            "  inflating: covid_dataset/COVID/COVID-22.png  \n",
            "  inflating: covid_dataset/COVID/COVID-23.png  \n",
            "  inflating: covid_dataset/COVID/COVID-24.png  \n",
            "  inflating: covid_dataset/COVID/COVID-25.png  \n",
            "  inflating: covid_dataset/COVID/COVID-26.png  \n",
            "  inflating: covid_dataset/COVID/COVID-27.png  \n",
            "  inflating: covid_dataset/COVID/COVID-28.png  \n",
            "  inflating: covid_dataset/COVID/COVID-29.png  \n",
            "  inflating: covid_dataset/COVID/COVID-3.png  \n",
            "  inflating: covid_dataset/COVID/COVID-30.png  \n",
            "  inflating: covid_dataset/COVID/COVID-31.png  \n",
            "  inflating: covid_dataset/COVID/COVID-32.png  \n",
            "  inflating: covid_dataset/COVID/COVID-33.png  \n",
            "  inflating: covid_dataset/COVID/COVID-34.png  \n",
            "  inflating: covid_dataset/COVID/COVID-35.png  \n",
            "  inflating: covid_dataset/COVID/COVID-36.png  \n",
            "  inflating: covid_dataset/COVID/COVID-37.png  \n",
            "  inflating: covid_dataset/COVID/COVID-38.png  \n",
            "  inflating: covid_dataset/COVID/COVID-39.png  \n",
            "  inflating: covid_dataset/COVID/COVID-4.png  \n",
            "  inflating: covid_dataset/COVID/COVID-40.png  \n",
            "  inflating: covid_dataset/COVID/COVID-41.png  \n",
            "  inflating: covid_dataset/COVID/COVID-42.png  \n",
            "  inflating: covid_dataset/COVID/COVID-43.png  \n",
            "  inflating: covid_dataset/COVID/COVID-44.png  \n",
            "  inflating: covid_dataset/COVID/COVID-45.png  \n",
            "  inflating: covid_dataset/COVID/COVID-46.png  \n",
            "  inflating: covid_dataset/COVID/COVID-47.png  \n",
            "  inflating: covid_dataset/COVID/COVID-48.png  \n",
            "  inflating: covid_dataset/COVID/COVID-49.png  \n",
            "  inflating: covid_dataset/COVID/COVID-5.png  \n",
            "  inflating: covid_dataset/COVID/COVID-50.png  \n",
            "  inflating: covid_dataset/COVID/COVID-6.png  \n",
            "  inflating: covid_dataset/COVID/COVID-7.png  \n",
            "  inflating: covid_dataset/COVID/COVID-8.png  \n",
            "  inflating: covid_dataset/COVID/COVID-9.png  \n",
            "   creating: covid_dataset/Normal/\n",
            "  inflating: covid_dataset/Normal/Normal-1.png  \n",
            "  inflating: covid_dataset/Normal/Normal-10.png  \n",
            "  inflating: covid_dataset/Normal/Normal-11.png  \n",
            "  inflating: covid_dataset/Normal/Normal-12.png  \n",
            "  inflating: covid_dataset/Normal/Normal-13.png  \n",
            "  inflating: covid_dataset/Normal/Normal-14.png  \n",
            "  inflating: covid_dataset/Normal/Normal-15.png  \n",
            "  inflating: covid_dataset/Normal/Normal-16.png  \n",
            "  inflating: covid_dataset/Normal/Normal-17.png  \n",
            "  inflating: covid_dataset/Normal/Normal-18.png  \n",
            "  inflating: covid_dataset/Normal/Normal-19.png  \n",
            "  inflating: covid_dataset/Normal/Normal-2.png  \n",
            "  inflating: covid_dataset/Normal/Normal-20.png  \n",
            "  inflating: covid_dataset/Normal/Normal-21.png  \n",
            "  inflating: covid_dataset/Normal/Normal-22.png  \n",
            "  inflating: covid_dataset/Normal/Normal-23.png  \n",
            "  inflating: covid_dataset/Normal/Normal-24.png  \n",
            "  inflating: covid_dataset/Normal/Normal-25.png  \n",
            "  inflating: covid_dataset/Normal/Normal-26.png  \n",
            "  inflating: covid_dataset/Normal/Normal-27.png  \n",
            "  inflating: covid_dataset/Normal/Normal-28.png  \n",
            "  inflating: covid_dataset/Normal/Normal-29.png  \n",
            "  inflating: covid_dataset/Normal/Normal-3.png  \n",
            "  inflating: covid_dataset/Normal/Normal-30.png  \n",
            "  inflating: covid_dataset/Normal/Normal-31.png  \n",
            "  inflating: covid_dataset/Normal/Normal-32.png  \n",
            "  inflating: covid_dataset/Normal/Normal-33.png  \n",
            "  inflating: covid_dataset/Normal/Normal-34.png  \n",
            "  inflating: covid_dataset/Normal/Normal-35.png  \n",
            "  inflating: covid_dataset/Normal/Normal-36.png  \n",
            "  inflating: covid_dataset/Normal/Normal-37.png  \n",
            "  inflating: covid_dataset/Normal/Normal-38.png  \n",
            "  inflating: covid_dataset/Normal/Normal-39.png  \n",
            "  inflating: covid_dataset/Normal/Normal-4.png  \n",
            "  inflating: covid_dataset/Normal/Normal-40.png  \n",
            "  inflating: covid_dataset/Normal/Normal-41.png  \n",
            "  inflating: covid_dataset/Normal/Normal-42.png  \n",
            "  inflating: covid_dataset/Normal/Normal-43.png  \n",
            "  inflating: covid_dataset/Normal/Normal-44.png  \n",
            "  inflating: covid_dataset/Normal/Normal-45.png  \n",
            "  inflating: covid_dataset/Normal/Normal-46.png  \n",
            "  inflating: covid_dataset/Normal/Normal-47.png  \n",
            "  inflating: covid_dataset/Normal/Normal-48.png  \n",
            "  inflating: covid_dataset/Normal/Normal-49.png  \n",
            "  inflating: covid_dataset/Normal/Normal-5.png  \n",
            "  inflating: covid_dataset/Normal/Normal-50.png  \n",
            "  inflating: covid_dataset/Normal/Normal-6.png  \n",
            "  inflating: covid_dataset/Normal/Normal-7.png  \n",
            "  inflating: covid_dataset/Normal/Normal-8.png  \n",
            "  inflating: covid_dataset/Normal/Normal-9.png  \n",
            "   creating: covid_dataset/Viral Pneumonia/\n",
            "  inflating: covid_dataset/Viral Pneumonia/Viral Pneumonia-1.png  \n",
            "  inflating: covid_dataset/Viral Pneumonia/Viral Pneumonia-10.png  \n",
            "  inflating: covid_dataset/Viral Pneumonia/Viral Pneumonia-11.png  \n",
            "  inflating: covid_dataset/Viral Pneumonia/Viral Pneumonia-12.png  \n",
            "  inflating: covid_dataset/Viral Pneumonia/Viral Pneumonia-13.png  \n",
            "  inflating: covid_dataset/Viral Pneumonia/Viral Pneumonia-14.png  \n",
            "  inflating: covid_dataset/Viral Pneumonia/Viral Pneumonia-15.png  \n",
            "  inflating: covid_dataset/Viral Pneumonia/Viral Pneumonia-16.png  \n",
            "  inflating: covid_dataset/Viral Pneumonia/Viral Pneumonia-17.png  \n",
            "  inflating: covid_dataset/Viral Pneumonia/Viral Pneumonia-18.png  \n",
            "  inflating: covid_dataset/Viral Pneumonia/Viral Pneumonia-19.png  \n",
            "  inflating: covid_dataset/Viral Pneumonia/Viral Pneumonia-2.png  \n",
            "  inflating: covid_dataset/Viral Pneumonia/Viral Pneumonia-20.png  \n",
            "  inflating: covid_dataset/Viral Pneumonia/Viral Pneumonia-21.png  \n",
            "  inflating: covid_dataset/Viral Pneumonia/Viral Pneumonia-22.png  \n",
            "  inflating: covid_dataset/Viral Pneumonia/Viral Pneumonia-23.png  \n",
            "  inflating: covid_dataset/Viral Pneumonia/Viral Pneumonia-24.png  \n",
            "  inflating: covid_dataset/Viral Pneumonia/Viral Pneumonia-25.png  \n",
            "  inflating: covid_dataset/Viral Pneumonia/Viral Pneumonia-26.png  \n",
            "  inflating: covid_dataset/Viral Pneumonia/Viral Pneumonia-27.png  \n",
            "  inflating: covid_dataset/Viral Pneumonia/Viral Pneumonia-28.png  \n",
            "  inflating: covid_dataset/Viral Pneumonia/Viral Pneumonia-29.png  \n",
            "  inflating: covid_dataset/Viral Pneumonia/Viral Pneumonia-3.png  \n",
            "  inflating: covid_dataset/Viral Pneumonia/Viral Pneumonia-30.png  \n",
            "  inflating: covid_dataset/Viral Pneumonia/Viral Pneumonia-31.png  \n",
            "  inflating: covid_dataset/Viral Pneumonia/Viral Pneumonia-32.png  \n",
            "  inflating: covid_dataset/Viral Pneumonia/Viral Pneumonia-33.png  \n",
            "  inflating: covid_dataset/Viral Pneumonia/Viral Pneumonia-34.png  \n",
            "  inflating: covid_dataset/Viral Pneumonia/Viral Pneumonia-35.png  \n",
            "  inflating: covid_dataset/Viral Pneumonia/Viral Pneumonia-36.png  \n",
            "  inflating: covid_dataset/Viral Pneumonia/Viral Pneumonia-37.png  \n",
            "  inflating: covid_dataset/Viral Pneumonia/Viral Pneumonia-38.png  \n",
            "  inflating: covid_dataset/Viral Pneumonia/Viral Pneumonia-39.png  \n",
            "  inflating: covid_dataset/Viral Pneumonia/Viral Pneumonia-4.png  \n",
            "  inflating: covid_dataset/Viral Pneumonia/Viral Pneumonia-40.png  \n",
            "  inflating: covid_dataset/Viral Pneumonia/Viral Pneumonia-41.png  \n",
            "  inflating: covid_dataset/Viral Pneumonia/Viral Pneumonia-42.png  \n",
            "  inflating: covid_dataset/Viral Pneumonia/Viral Pneumonia-43.png  \n",
            "  inflating: covid_dataset/Viral Pneumonia/Viral Pneumonia-44.png  \n",
            "  inflating: covid_dataset/Viral Pneumonia/Viral Pneumonia-45.png  \n",
            "  inflating: covid_dataset/Viral Pneumonia/Viral Pneumonia-46.png  \n",
            "  inflating: covid_dataset/Viral Pneumonia/Viral Pneumonia-47.png  \n",
            "  inflating: covid_dataset/Viral Pneumonia/Viral Pneumonia-48.png  \n",
            "  inflating: covid_dataset/Viral Pneumonia/Viral Pneumonia-49.png  \n",
            "  inflating: covid_dataset/Viral Pneumonia/Viral Pneumonia-5.png  \n",
            "  inflating: covid_dataset/Viral Pneumonia/Viral Pneumonia-50.png  \n",
            "  inflating: covid_dataset/Viral Pneumonia/Viral Pneumonia-6.png  \n",
            "  inflating: covid_dataset/Viral Pneumonia/Viral Pneumonia-7.png  \n",
            "  inflating: covid_dataset/Viral Pneumonia/Viral Pneumonia-8.png  \n",
            "  inflating: covid_dataset/Viral Pneumonia/Viral Pneumonia-9.png  \n"
          ]
        }
      ]
    },
    {
      "cell_type": "markdown",
      "metadata": {
        "id": "xvuRmzA0tNw0"
      },
      "source": [
        "**4. Install split folder python package**\n",
        "\n",
        "https://pypi.org/project/split-folders/"
      ]
    },
    {
      "cell_type": "code",
      "metadata": {
        "id": "r-4b_r2qlenB",
        "colab": {
          "base_uri": "https://localhost:8080/"
        },
        "outputId": "627081aa-639d-4f07-a770-cbd1064f541b"
      },
      "source": [
        "!pip install split_folders"
      ],
      "execution_count": 7,
      "outputs": [
        {
          "output_type": "stream",
          "name": "stdout",
          "text": [
            "Collecting split_folders\n",
            "  Downloading split_folders-0.5.1-py3-none-any.whl (8.4 kB)\n",
            "Installing collected packages: split_folders\n",
            "Successfully installed split_folders-0.5.1\n"
          ]
        }
      ]
    },
    {
      "cell_type": "markdown",
      "metadata": {
        "id": "yq0KuuUatVi-"
      },
      "source": [
        "**5. Splitting the data in training, testing and validation set**"
      ]
    },
    {
      "cell_type": "code",
      "metadata": {
        "id": "8xXGHVOIlheA",
        "colab": {
          "base_uri": "https://localhost:8080/"
        },
        "outputId": "cd91f235-1c1c-4291-a410-b35a5902ee50"
      },
      "source": [
        "import splitfolders\n",
        "splitfolders.ratio(\"covid_dataset\", output=\"split\", seed=1337, ratio=(.8, .1, .1), group_prefix=None)"
      ],
      "execution_count": 8,
      "outputs": [
        {
          "output_type": "stream",
          "name": "stderr",
          "text": [
            "Copying files: 150 files [00:00, 5776.59 files/s]\n"
          ]
        }
      ]
    },
    {
      "cell_type": "code",
      "source": [
        "import splitfolders\n",
        "splitfolders.ratio(\"covid_dataset\", output=\"split\", seed=1337, ratio=(.8, .1, .1), group_prefix=None)"
      ],
      "metadata": {
        "colab": {
          "base_uri": "https://localhost:8080/"
        },
        "id": "YlqeXzb0AXtS",
        "outputId": "3251d854-cdbe-4821-8df7-4c40afc2594c"
      },
      "execution_count": 9,
      "outputs": [
        {
          "output_type": "stream",
          "name": "stderr",
          "text": [
            "Copying files: 150 files [00:00, 3279.74 files/s]\n"
          ]
        }
      ]
    },
    {
      "cell_type": "markdown",
      "metadata": {
        "id": "4_rTBEKCtaTR"
      },
      "source": [
        "**6. Loading the dataset with normalization in batches**"
      ]
    },
    {
      "cell_type": "code",
      "metadata": {
        "id": "4of-TiQPlkCZ",
        "colab": {
          "base_uri": "https://localhost:8080/"
        },
        "outputId": "f0520604-eee6-45ac-dd1c-e708cbade391"
      },
      "source": [
        "from keras.preprocessing.image import ImageDataGenerator\n",
        "\n",
        "# Normalize training and validation data in the range of 0 to 1\n",
        "train_datagen = ImageDataGenerator(rescale=1./255)\n",
        "validation_datagen = ImageDataGenerator(rescale=1./255)\n",
        "test_datagen = ImageDataGenerator(rescale=1./255)\n",
        "\n",
        "# Read the training sample and set the batch size\n",
        "train_generator = train_datagen.flow_from_directory(\n",
        "        'split/train/',\n",
        "        target_size=(128, 128),\n",
        "        batch_size=8,\n",
        "        seed=100,\n",
        "        class_mode='categorical')\n",
        "\n",
        "# Read Validation data from directory and define target size with batch size\n",
        "validation_generator = validation_datagen.flow_from_directory(\n",
        "        'split/val/',\n",
        "        target_size=(128, 128),\n",
        "        batch_size=8,\n",
        "        class_mode='categorical',\n",
        "        seed=1000,\n",
        "        shuffle=False)\n",
        "\n",
        "test_generator = test_datagen.flow_from_directory(\n",
        "        'split/test/',\n",
        "        target_size=(128, 128),\n",
        "        batch_size=8,\n",
        "        seed=500,\n",
        "        class_mode='categorical',\n",
        "        shuffle=False)"
      ],
      "execution_count": 10,
      "outputs": [
        {
          "output_type": "stream",
          "name": "stdout",
          "text": [
            "Found 120 images belonging to 3 classes.\n",
            "Found 15 images belonging to 3 classes.\n",
            "Found 15 images belonging to 3 classes.\n"
          ]
        }
      ]
    },
    {
      "cell_type": "markdown",
      "metadata": {
        "id": "ZqmlFmyitf8O"
      },
      "source": [
        "**7. Model Building**"
      ]
    },
    {
      "cell_type": "code",
      "metadata": {
        "id": "RrA7f0eKl4tH",
        "colab": {
          "base_uri": "https://localhost:8080/"
        },
        "outputId": "86c5b974-56d3-4946-9220-b036929b131e"
      },
      "source": [
        "from tensorflow import keras\n",
        "from tensorflow.keras import layers\n",
        "inputs = keras.Input(shape=(128, 128,3))\n",
        "x = layers.Flatten()(inputs)\n",
        "x = layers.Dense(64, activation=\"relu\")(x)\n",
        "x = layers.Dense(32, activation='relu')(x)\n",
        "x = layers.Dense(64, activation='relu')(x)\n",
        "outputs = layers.Dense(3, activation=\"softmax\")(x)\n",
        "model = keras.Model(inputs, outputs)\n",
        "model.summary()"
      ],
      "execution_count": 20,
      "outputs": [
        {
          "output_type": "stream",
          "name": "stdout",
          "text": [
            "Model: \"model_1\"\n",
            "_________________________________________________________________\n",
            " Layer (type)                Output Shape              Param #   \n",
            "=================================================================\n",
            " input_2 (InputLayer)        [(None, 128, 128, 3)]     0         \n",
            "                                                                 \n",
            " flatten_1 (Flatten)         (None, 49152)             0         \n",
            "                                                                 \n",
            " dense_4 (Dense)             (None, 64)                3145792   \n",
            "                                                                 \n",
            " dense_5 (Dense)             (None, 32)                2080      \n",
            "                                                                 \n",
            " dense_6 (Dense)             (None, 64)                2112      \n",
            "                                                                 \n",
            " dense_7 (Dense)             (None, 3)                 195       \n",
            "                                                                 \n",
            "=================================================================\n",
            "Total params: 3150179 (12.02 MB)\n",
            "Trainable params: 3150179 (12.02 MB)\n",
            "Non-trainable params: 0 (0.00 Byte)\n",
            "_________________________________________________________________\n"
          ]
        }
      ]
    },
    {
      "cell_type": "markdown",
      "metadata": {
        "id": "_437haxhtjFa"
      },
      "source": [
        "**8. Model Compilation and Training**"
      ]
    },
    {
      "cell_type": "code",
      "metadata": {
        "id": "DixxjVJelrcg",
        "colab": {
          "base_uri": "https://localhost:8080/"
        },
        "outputId": "7d7e6c2a-40f7-46fb-dad1-c072a52660ea"
      },
      "source": [
        "from tensorflow.keras.optimizers import Adam\n",
        "\n",
        "adam = Adam(learning_rate=0.0001)\n",
        "# We are going to use accuracy metrics and cross entropy loss as performance parameters\n",
        "model.compile(adam, loss='categorical_crossentropy', metrics=['acc'])\n",
        "# Train the model\n",
        "history = model.fit(train_generator,\n",
        "      steps_per_epoch=train_generator.samples/train_generator.batch_size,\n",
        "      epochs=200,\n",
        "      validation_data=validation_generator,\n",
        "      validation_steps=validation_generator.samples/validation_generator.batch_size,\n",
        "      verbose=1)"
      ],
      "execution_count": 21,
      "outputs": [
        {
          "output_type": "stream",
          "name": "stdout",
          "text": [
            "Epoch 1/200\n",
            "15/15 [==============================] - 2s 45ms/step - loss: 1.0671 - acc: 0.4333 - val_loss: 0.7981 - val_acc: 0.8000\n",
            "Epoch 2/200\n",
            "15/15 [==============================] - 0s 23ms/step - loss: 0.7535 - acc: 0.6250 - val_loss: 0.7987 - val_acc: 0.6667\n",
            "Epoch 3/200\n",
            "15/15 [==============================] - 0s 25ms/step - loss: 0.6593 - acc: 0.6917 - val_loss: 0.7095 - val_acc: 0.5333\n",
            "Epoch 4/200\n",
            "15/15 [==============================] - 0s 23ms/step - loss: 0.5870 - acc: 0.7333 - val_loss: 0.6047 - val_acc: 0.8000\n",
            "Epoch 5/200\n",
            "15/15 [==============================] - 0s 24ms/step - loss: 0.5218 - acc: 0.7750 - val_loss: 0.6484 - val_acc: 0.6667\n",
            "Epoch 6/200\n",
            "15/15 [==============================] - 0s 24ms/step - loss: 0.5075 - acc: 0.7750 - val_loss: 0.4491 - val_acc: 0.8667\n",
            "Epoch 7/200\n",
            "15/15 [==============================] - 0s 23ms/step - loss: 0.4403 - acc: 0.8250 - val_loss: 0.5027 - val_acc: 0.7333\n",
            "Epoch 8/200\n",
            "15/15 [==============================] - 0s 23ms/step - loss: 0.4996 - acc: 0.8250 - val_loss: 0.5179 - val_acc: 0.7333\n",
            "Epoch 9/200\n",
            "15/15 [==============================] - 0s 25ms/step - loss: 0.4063 - acc: 0.8333 - val_loss: 0.4878 - val_acc: 0.8667\n",
            "Epoch 10/200\n",
            "15/15 [==============================] - 1s 35ms/step - loss: 0.5376 - acc: 0.7250 - val_loss: 0.5538 - val_acc: 0.6667\n",
            "Epoch 11/200\n",
            "15/15 [==============================] - 1s 36ms/step - loss: 0.4830 - acc: 0.8167 - val_loss: 0.4585 - val_acc: 0.8667\n",
            "Epoch 12/200\n",
            "15/15 [==============================] - 1s 33ms/step - loss: 0.3845 - acc: 0.8417 - val_loss: 0.4559 - val_acc: 0.8667\n",
            "Epoch 13/200\n",
            "15/15 [==============================] - 1s 40ms/step - loss: 0.3914 - acc: 0.8250 - val_loss: 0.4647 - val_acc: 0.8000\n",
            "Epoch 14/200\n",
            "15/15 [==============================] - 1s 35ms/step - loss: 0.3959 - acc: 0.8167 - val_loss: 0.3958 - val_acc: 0.9333\n",
            "Epoch 15/200\n",
            "15/15 [==============================] - 0s 24ms/step - loss: 0.3606 - acc: 0.8167 - val_loss: 0.5584 - val_acc: 0.6667\n",
            "Epoch 16/200\n",
            "15/15 [==============================] - 0s 23ms/step - loss: 0.4402 - acc: 0.8000 - val_loss: 0.5645 - val_acc: 0.6667\n",
            "Epoch 17/200\n",
            "15/15 [==============================] - 0s 25ms/step - loss: 0.4342 - acc: 0.8167 - val_loss: 0.6300 - val_acc: 0.6000\n",
            "Epoch 18/200\n",
            "15/15 [==============================] - 0s 24ms/step - loss: 0.2927 - acc: 0.8917 - val_loss: 0.4849 - val_acc: 0.8000\n",
            "Epoch 19/200\n",
            "15/15 [==============================] - 0s 23ms/step - loss: 0.3309 - acc: 0.8667 - val_loss: 0.6700 - val_acc: 0.6667\n",
            "Epoch 20/200\n",
            "15/15 [==============================] - 0s 23ms/step - loss: 0.3752 - acc: 0.8333 - val_loss: 0.6609 - val_acc: 0.6667\n",
            "Epoch 21/200\n",
            "15/15 [==============================] - 0s 24ms/step - loss: 0.4001 - acc: 0.8000 - val_loss: 0.6523 - val_acc: 0.6667\n",
            "Epoch 22/200\n",
            "15/15 [==============================] - 0s 23ms/step - loss: 0.3497 - acc: 0.8583 - val_loss: 0.3755 - val_acc: 0.8000\n",
            "Epoch 23/200\n",
            "15/15 [==============================] - 0s 24ms/step - loss: 0.3488 - acc: 0.8750 - val_loss: 0.3917 - val_acc: 0.8667\n",
            "Epoch 24/200\n",
            "15/15 [==============================] - 0s 23ms/step - loss: 0.3657 - acc: 0.8333 - val_loss: 0.6002 - val_acc: 0.6667\n",
            "Epoch 25/200\n",
            "15/15 [==============================] - 0s 23ms/step - loss: 0.2330 - acc: 0.9167 - val_loss: 0.3410 - val_acc: 0.8667\n",
            "Epoch 26/200\n",
            "15/15 [==============================] - 0s 23ms/step - loss: 0.2261 - acc: 0.9167 - val_loss: 0.5768 - val_acc: 0.6667\n",
            "Epoch 27/200\n",
            "15/15 [==============================] - 0s 23ms/step - loss: 0.2056 - acc: 0.9500 - val_loss: 0.6350 - val_acc: 0.7333\n",
            "Epoch 28/200\n",
            "15/15 [==============================] - 0s 23ms/step - loss: 0.2808 - acc: 0.8667 - val_loss: 0.5485 - val_acc: 0.8000\n",
            "Epoch 29/200\n",
            "15/15 [==============================] - 0s 24ms/step - loss: 0.2083 - acc: 0.9333 - val_loss: 0.3537 - val_acc: 0.8667\n",
            "Epoch 30/200\n",
            "15/15 [==============================] - 0s 25ms/step - loss: 0.1863 - acc: 0.9583 - val_loss: 0.2984 - val_acc: 0.8667\n",
            "Epoch 31/200\n",
            "15/15 [==============================] - 0s 24ms/step - loss: 0.2728 - acc: 0.8833 - val_loss: 0.3519 - val_acc: 0.8000\n",
            "Epoch 32/200\n",
            "15/15 [==============================] - 0s 25ms/step - loss: 0.3293 - acc: 0.8417 - val_loss: 0.3712 - val_acc: 0.9333\n",
            "Epoch 33/200\n",
            "15/15 [==============================] - 0s 24ms/step - loss: 0.2755 - acc: 0.8750 - val_loss: 0.4645 - val_acc: 0.8667\n",
            "Epoch 34/200\n",
            "15/15 [==============================] - 0s 23ms/step - loss: 0.1522 - acc: 0.9750 - val_loss: 0.3255 - val_acc: 0.8667\n",
            "Epoch 35/200\n",
            "15/15 [==============================] - 0s 23ms/step - loss: 0.1827 - acc: 0.9583 - val_loss: 0.3363 - val_acc: 0.8667\n",
            "Epoch 36/200\n",
            "15/15 [==============================] - 1s 38ms/step - loss: 0.1547 - acc: 0.9667 - val_loss: 0.3534 - val_acc: 0.8667\n",
            "Epoch 37/200\n",
            "15/15 [==============================] - 1s 35ms/step - loss: 0.1236 - acc: 0.9833 - val_loss: 0.4752 - val_acc: 0.8000\n",
            "Epoch 38/200\n",
            "15/15 [==============================] - 1s 63ms/step - loss: 0.1462 - acc: 0.9667 - val_loss: 0.5087 - val_acc: 0.7333\n",
            "Epoch 39/200\n",
            "15/15 [==============================] - 1s 65ms/step - loss: 0.1291 - acc: 0.9667 - val_loss: 0.3702 - val_acc: 0.8667\n",
            "Epoch 40/200\n",
            "15/15 [==============================] - 1s 46ms/step - loss: 0.1229 - acc: 0.9583 - val_loss: 0.4975 - val_acc: 0.6667\n",
            "Epoch 41/200\n",
            "15/15 [==============================] - 0s 23ms/step - loss: 0.1521 - acc: 0.9583 - val_loss: 0.4648 - val_acc: 0.8000\n",
            "Epoch 42/200\n",
            "15/15 [==============================] - 0s 24ms/step - loss: 0.1928 - acc: 0.9250 - val_loss: 0.5719 - val_acc: 0.7333\n",
            "Epoch 43/200\n",
            "15/15 [==============================] - 0s 24ms/step - loss: 0.1123 - acc: 0.9750 - val_loss: 0.3548 - val_acc: 0.8667\n",
            "Epoch 44/200\n",
            "15/15 [==============================] - 0s 23ms/step - loss: 0.1089 - acc: 0.9833 - val_loss: 0.3408 - val_acc: 0.8667\n",
            "Epoch 45/200\n",
            "15/15 [==============================] - 0s 23ms/step - loss: 0.1859 - acc: 0.9333 - val_loss: 0.3190 - val_acc: 0.8667\n",
            "Epoch 46/200\n",
            "15/15 [==============================] - 0s 26ms/step - loss: 0.1285 - acc: 0.9750 - val_loss: 0.3446 - val_acc: 0.8667\n",
            "Epoch 47/200\n",
            "15/15 [==============================] - 0s 26ms/step - loss: 0.1126 - acc: 0.9833 - val_loss: 0.4056 - val_acc: 0.7333\n",
            "Epoch 48/200\n",
            "15/15 [==============================] - 0s 25ms/step - loss: 0.1165 - acc: 0.9750 - val_loss: 0.3526 - val_acc: 0.7333\n",
            "Epoch 49/200\n",
            "15/15 [==============================] - 0s 24ms/step - loss: 0.1151 - acc: 0.9667 - val_loss: 0.3987 - val_acc: 0.7333\n",
            "Epoch 50/200\n",
            "15/15 [==============================] - 0s 24ms/step - loss: 0.0949 - acc: 0.9833 - val_loss: 0.4207 - val_acc: 0.8000\n",
            "Epoch 51/200\n",
            "15/15 [==============================] - 0s 24ms/step - loss: 0.0684 - acc: 0.9917 - val_loss: 0.4051 - val_acc: 0.8667\n",
            "Epoch 52/200\n",
            "15/15 [==============================] - 0s 23ms/step - loss: 0.0770 - acc: 1.0000 - val_loss: 0.4984 - val_acc: 0.8667\n",
            "Epoch 53/200\n",
            "15/15 [==============================] - 0s 24ms/step - loss: 0.0834 - acc: 0.9750 - val_loss: 0.4437 - val_acc: 0.8000\n",
            "Epoch 54/200\n",
            "15/15 [==============================] - 0s 24ms/step - loss: 0.0623 - acc: 1.0000 - val_loss: 0.4370 - val_acc: 0.8000\n",
            "Epoch 55/200\n",
            "15/15 [==============================] - 0s 24ms/step - loss: 0.0852 - acc: 0.9833 - val_loss: 0.4624 - val_acc: 0.7333\n",
            "Epoch 56/200\n",
            "15/15 [==============================] - 0s 23ms/step - loss: 0.0998 - acc: 0.9667 - val_loss: 0.5370 - val_acc: 0.6667\n",
            "Epoch 57/200\n",
            "15/15 [==============================] - 0s 23ms/step - loss: 0.1095 - acc: 0.9833 - val_loss: 0.7627 - val_acc: 0.6000\n",
            "Epoch 58/200\n",
            "15/15 [==============================] - 0s 23ms/step - loss: 0.1022 - acc: 0.9917 - val_loss: 0.4278 - val_acc: 0.8000\n",
            "Epoch 59/200\n",
            "15/15 [==============================] - 0s 23ms/step - loss: 0.0567 - acc: 1.0000 - val_loss: 0.4730 - val_acc: 0.8000\n",
            "Epoch 60/200\n",
            "15/15 [==============================] - 0s 25ms/step - loss: 0.0737 - acc: 0.9917 - val_loss: 0.5147 - val_acc: 0.7333\n",
            "Epoch 61/200\n",
            "15/15 [==============================] - 1s 34ms/step - loss: 0.0534 - acc: 1.0000 - val_loss: 0.4398 - val_acc: 0.8667\n",
            "Epoch 62/200\n",
            "15/15 [==============================] - 1s 41ms/step - loss: 0.0446 - acc: 1.0000 - val_loss: 0.4473 - val_acc: 0.8667\n",
            "Epoch 63/200\n",
            "15/15 [==============================] - 1s 42ms/step - loss: 0.0532 - acc: 0.9833 - val_loss: 0.4830 - val_acc: 0.6667\n",
            "Epoch 64/200\n",
            "15/15 [==============================] - 0s 24ms/step - loss: 0.1174 - acc: 0.9667 - val_loss: 0.3588 - val_acc: 0.8000\n",
            "Epoch 65/200\n",
            "15/15 [==============================] - 0s 24ms/step - loss: 0.1556 - acc: 0.9167 - val_loss: 0.3371 - val_acc: 0.8667\n",
            "Epoch 66/200\n",
            "15/15 [==============================] - 0s 24ms/step - loss: 0.1833 - acc: 0.9250 - val_loss: 0.4008 - val_acc: 0.6667\n",
            "Epoch 67/200\n",
            "15/15 [==============================] - 0s 23ms/step - loss: 0.1016 - acc: 0.9833 - val_loss: 0.3678 - val_acc: 0.8667\n",
            "Epoch 68/200\n",
            "15/15 [==============================] - 0s 24ms/step - loss: 0.0778 - acc: 0.9833 - val_loss: 0.4415 - val_acc: 0.8667\n",
            "Epoch 69/200\n",
            "15/15 [==============================] - 0s 25ms/step - loss: 0.1162 - acc: 0.9500 - val_loss: 0.5692 - val_acc: 0.8000\n",
            "Epoch 70/200\n",
            "15/15 [==============================] - 0s 25ms/step - loss: 0.0491 - acc: 0.9833 - val_loss: 0.5225 - val_acc: 0.8000\n",
            "Epoch 71/200\n",
            "15/15 [==============================] - 0s 24ms/step - loss: 0.0469 - acc: 0.9917 - val_loss: 0.4305 - val_acc: 0.8667\n",
            "Epoch 72/200\n",
            "15/15 [==============================] - 0s 23ms/step - loss: 0.0365 - acc: 1.0000 - val_loss: 0.4780 - val_acc: 0.8000\n",
            "Epoch 73/200\n",
            "15/15 [==============================] - 0s 24ms/step - loss: 0.0458 - acc: 0.9917 - val_loss: 0.4913 - val_acc: 0.8000\n",
            "Epoch 74/200\n",
            "15/15 [==============================] - 0s 23ms/step - loss: 0.0380 - acc: 1.0000 - val_loss: 0.5842 - val_acc: 0.7333\n",
            "Epoch 75/200\n",
            "15/15 [==============================] - 0s 23ms/step - loss: 0.0349 - acc: 1.0000 - val_loss: 0.4638 - val_acc: 0.8667\n",
            "Epoch 76/200\n",
            "15/15 [==============================] - 0s 25ms/step - loss: 0.0347 - acc: 0.9917 - val_loss: 0.4392 - val_acc: 0.8667\n",
            "Epoch 77/200\n",
            "15/15 [==============================] - 0s 24ms/step - loss: 0.0290 - acc: 1.0000 - val_loss: 0.4858 - val_acc: 0.7333\n",
            "Epoch 78/200\n",
            "15/15 [==============================] - 0s 25ms/step - loss: 0.0262 - acc: 1.0000 - val_loss: 0.4212 - val_acc: 0.8667\n",
            "Epoch 79/200\n",
            "15/15 [==============================] - 0s 23ms/step - loss: 0.0286 - acc: 1.0000 - val_loss: 0.4838 - val_acc: 0.8000\n",
            "Epoch 80/200\n",
            "15/15 [==============================] - 0s 24ms/step - loss: 0.0272 - acc: 1.0000 - val_loss: 0.4029 - val_acc: 0.8667\n",
            "Epoch 81/200\n",
            "15/15 [==============================] - 0s 23ms/step - loss: 0.0261 - acc: 1.0000 - val_loss: 0.4970 - val_acc: 0.8000\n",
            "Epoch 82/200\n",
            "15/15 [==============================] - 0s 24ms/step - loss: 0.0246 - acc: 1.0000 - val_loss: 0.4579 - val_acc: 0.8000\n",
            "Epoch 83/200\n",
            "15/15 [==============================] - 0s 23ms/step - loss: 0.0242 - acc: 1.0000 - val_loss: 0.4843 - val_acc: 0.8667\n",
            "Epoch 84/200\n",
            "15/15 [==============================] - 0s 23ms/step - loss: 0.0314 - acc: 1.0000 - val_loss: 0.3912 - val_acc: 0.8667\n",
            "Epoch 85/200\n",
            "15/15 [==============================] - 0s 23ms/step - loss: 0.0205 - acc: 1.0000 - val_loss: 0.4651 - val_acc: 0.8000\n",
            "Epoch 86/200\n",
            "15/15 [==============================] - 0s 24ms/step - loss: 0.0242 - acc: 1.0000 - val_loss: 0.4691 - val_acc: 0.8000\n",
            "Epoch 87/200\n",
            "15/15 [==============================] - 1s 41ms/step - loss: 0.0227 - acc: 1.0000 - val_loss: 0.4433 - val_acc: 0.8667\n",
            "Epoch 88/200\n",
            "15/15 [==============================] - 1s 42ms/step - loss: 0.0197 - acc: 1.0000 - val_loss: 0.4622 - val_acc: 0.7333\n",
            "Epoch 89/200\n",
            "15/15 [==============================] - 0s 29ms/step - loss: 0.0216 - acc: 1.0000 - val_loss: 0.4336 - val_acc: 0.8667\n",
            "Epoch 90/200\n",
            "15/15 [==============================] - 0s 24ms/step - loss: 0.0192 - acc: 1.0000 - val_loss: 0.4362 - val_acc: 0.8667\n",
            "Epoch 91/200\n",
            "15/15 [==============================] - 0s 23ms/step - loss: 0.0173 - acc: 1.0000 - val_loss: 0.4289 - val_acc: 0.8667\n",
            "Epoch 92/200\n",
            "15/15 [==============================] - 0s 25ms/step - loss: 0.0194 - acc: 1.0000 - val_loss: 0.4455 - val_acc: 0.8667\n",
            "Epoch 93/200\n",
            "15/15 [==============================] - 0s 28ms/step - loss: 0.0225 - acc: 1.0000 - val_loss: 0.4118 - val_acc: 0.8667\n",
            "Epoch 94/200\n",
            "15/15 [==============================] - 0s 25ms/step - loss: 0.0189 - acc: 1.0000 - val_loss: 0.4578 - val_acc: 0.8000\n",
            "Epoch 95/200\n",
            "15/15 [==============================] - 0s 25ms/step - loss: 0.0213 - acc: 1.0000 - val_loss: 0.4637 - val_acc: 0.6667\n",
            "Epoch 96/200\n",
            "15/15 [==============================] - 0s 23ms/step - loss: 0.0203 - acc: 1.0000 - val_loss: 0.5021 - val_acc: 0.6667\n",
            "Epoch 97/200\n",
            "15/15 [==============================] - 0s 24ms/step - loss: 0.0173 - acc: 1.0000 - val_loss: 0.4461 - val_acc: 0.8667\n",
            "Epoch 98/200\n",
            "15/15 [==============================] - 0s 24ms/step - loss: 0.0156 - acc: 1.0000 - val_loss: 0.4379 - val_acc: 0.8667\n",
            "Epoch 99/200\n",
            "15/15 [==============================] - 0s 23ms/step - loss: 0.0163 - acc: 1.0000 - val_loss: 0.4115 - val_acc: 0.8667\n",
            "Epoch 100/200\n",
            "15/15 [==============================] - 0s 24ms/step - loss: 0.0173 - acc: 1.0000 - val_loss: 0.4017 - val_acc: 0.8667\n",
            "Epoch 101/200\n",
            "15/15 [==============================] - 0s 23ms/step - loss: 0.0158 - acc: 1.0000 - val_loss: 0.4591 - val_acc: 0.8667\n",
            "Epoch 102/200\n",
            "15/15 [==============================] - 0s 23ms/step - loss: 0.0131 - acc: 1.0000 - val_loss: 0.4631 - val_acc: 0.8667\n",
            "Epoch 103/200\n",
            "15/15 [==============================] - 0s 25ms/step - loss: 0.0148 - acc: 1.0000 - val_loss: 0.4395 - val_acc: 0.8667\n",
            "Epoch 104/200\n",
            "15/15 [==============================] - 0s 23ms/step - loss: 0.0146 - acc: 1.0000 - val_loss: 0.4893 - val_acc: 0.7333\n",
            "Epoch 105/200\n",
            "15/15 [==============================] - 0s 25ms/step - loss: 0.0303 - acc: 1.0000 - val_loss: 0.4213 - val_acc: 0.8667\n",
            "Epoch 106/200\n",
            "15/15 [==============================] - 0s 24ms/step - loss: 0.0231 - acc: 1.0000 - val_loss: 0.4706 - val_acc: 0.7333\n",
            "Epoch 107/200\n",
            "15/15 [==============================] - 0s 24ms/step - loss: 0.0134 - acc: 1.0000 - val_loss: 0.4688 - val_acc: 0.8000\n",
            "Epoch 108/200\n",
            "15/15 [==============================] - 0s 23ms/step - loss: 0.0132 - acc: 1.0000 - val_loss: 0.4564 - val_acc: 0.8000\n",
            "Epoch 109/200\n",
            "15/15 [==============================] - 0s 24ms/step - loss: 0.0131 - acc: 1.0000 - val_loss: 0.5109 - val_acc: 0.7333\n",
            "Epoch 110/200\n",
            "15/15 [==============================] - 0s 23ms/step - loss: 0.0125 - acc: 1.0000 - val_loss: 0.4436 - val_acc: 0.8000\n",
            "Epoch 111/200\n",
            "15/15 [==============================] - 1s 34ms/step - loss: 0.0121 - acc: 1.0000 - val_loss: 0.4914 - val_acc: 0.8000\n",
            "Epoch 112/200\n",
            "15/15 [==============================] - 1s 41ms/step - loss: 0.0103 - acc: 1.0000 - val_loss: 0.4630 - val_acc: 0.8667\n",
            "Epoch 113/200\n",
            "15/15 [==============================] - 1s 36ms/step - loss: 0.0102 - acc: 1.0000 - val_loss: 0.4683 - val_acc: 0.8000\n",
            "Epoch 114/200\n",
            "15/15 [==============================] - 1s 35ms/step - loss: 0.0108 - acc: 1.0000 - val_loss: 0.4486 - val_acc: 0.8667\n",
            "Epoch 115/200\n",
            "15/15 [==============================] - 1s 37ms/step - loss: 0.0105 - acc: 1.0000 - val_loss: 0.4853 - val_acc: 0.7333\n",
            "Epoch 116/200\n",
            "15/15 [==============================] - 0s 26ms/step - loss: 0.0108 - acc: 1.0000 - val_loss: 0.4686 - val_acc: 0.8667\n",
            "Epoch 117/200\n",
            "15/15 [==============================] - 0s 24ms/step - loss: 0.0106 - acc: 1.0000 - val_loss: 0.4416 - val_acc: 0.8000\n",
            "Epoch 118/200\n",
            "15/15 [==============================] - 0s 23ms/step - loss: 0.0096 - acc: 1.0000 - val_loss: 0.4941 - val_acc: 0.8000\n",
            "Epoch 119/200\n",
            "15/15 [==============================] - 0s 24ms/step - loss: 0.0115 - acc: 1.0000 - val_loss: 0.5062 - val_acc: 0.8667\n",
            "Epoch 120/200\n",
            "15/15 [==============================] - 0s 24ms/step - loss: 0.0110 - acc: 1.0000 - val_loss: 0.4645 - val_acc: 0.8000\n",
            "Epoch 121/200\n",
            "15/15 [==============================] - 0s 27ms/step - loss: 0.0106 - acc: 1.0000 - val_loss: 0.5318 - val_acc: 0.7333\n",
            "Epoch 122/200\n",
            "15/15 [==============================] - 0s 26ms/step - loss: 0.0134 - acc: 1.0000 - val_loss: 0.4526 - val_acc: 0.8000\n",
            "Epoch 123/200\n",
            "15/15 [==============================] - 0s 25ms/step - loss: 0.0112 - acc: 1.0000 - val_loss: 0.4970 - val_acc: 0.8667\n",
            "Epoch 124/200\n",
            "15/15 [==============================] - 0s 24ms/step - loss: 0.0131 - acc: 1.0000 - val_loss: 0.5011 - val_acc: 0.8000\n",
            "Epoch 125/200\n",
            "15/15 [==============================] - 0s 24ms/step - loss: 0.0110 - acc: 1.0000 - val_loss: 0.4771 - val_acc: 0.8000\n",
            "Epoch 126/200\n",
            "15/15 [==============================] - 0s 24ms/step - loss: 0.0082 - acc: 1.0000 - val_loss: 0.4728 - val_acc: 0.8000\n",
            "Epoch 127/200\n",
            "15/15 [==============================] - 0s 24ms/step - loss: 0.0075 - acc: 1.0000 - val_loss: 0.4851 - val_acc: 0.8000\n",
            "Epoch 128/200\n",
            "15/15 [==============================] - 0s 24ms/step - loss: 0.0080 - acc: 1.0000 - val_loss: 0.4879 - val_acc: 0.8667\n",
            "Epoch 129/200\n",
            "15/15 [==============================] - 0s 24ms/step - loss: 0.0076 - acc: 1.0000 - val_loss: 0.4859 - val_acc: 0.8667\n",
            "Epoch 130/200\n",
            "15/15 [==============================] - 0s 24ms/step - loss: 0.0072 - acc: 1.0000 - val_loss: 0.4880 - val_acc: 0.8667\n",
            "Epoch 131/200\n",
            "15/15 [==============================] - 0s 24ms/step - loss: 0.0079 - acc: 1.0000 - val_loss: 0.5104 - val_acc: 0.7333\n",
            "Epoch 132/200\n",
            "15/15 [==============================] - 0s 23ms/step - loss: 0.0080 - acc: 1.0000 - val_loss: 0.5000 - val_acc: 0.8000\n",
            "Epoch 133/200\n",
            "15/15 [==============================] - 0s 24ms/step - loss: 0.0087 - acc: 1.0000 - val_loss: 0.4756 - val_acc: 0.8667\n",
            "Epoch 134/200\n",
            "15/15 [==============================] - 0s 24ms/step - loss: 0.0073 - acc: 1.0000 - val_loss: 0.5113 - val_acc: 0.8000\n",
            "Epoch 135/200\n",
            "15/15 [==============================] - 0s 24ms/step - loss: 0.0066 - acc: 1.0000 - val_loss: 0.4700 - val_acc: 0.8667\n",
            "Epoch 136/200\n",
            "15/15 [==============================] - 1s 33ms/step - loss: 0.0069 - acc: 1.0000 - val_loss: 0.4736 - val_acc: 0.8667\n",
            "Epoch 137/200\n",
            "15/15 [==============================] - 1s 35ms/step - loss: 0.0070 - acc: 1.0000 - val_loss: 0.4924 - val_acc: 0.8667\n",
            "Epoch 138/200\n",
            "15/15 [==============================] - 1s 35ms/step - loss: 0.0062 - acc: 1.0000 - val_loss: 0.4790 - val_acc: 0.8000\n",
            "Epoch 139/200\n",
            "15/15 [==============================] - 1s 42ms/step - loss: 0.0065 - acc: 1.0000 - val_loss: 0.4905 - val_acc: 0.8000\n",
            "Epoch 140/200\n",
            "15/15 [==============================] - 1s 33ms/step - loss: 0.0066 - acc: 1.0000 - val_loss: 0.4751 - val_acc: 0.8000\n",
            "Epoch 141/200\n",
            "15/15 [==============================] - 0s 24ms/step - loss: 0.0059 - acc: 1.0000 - val_loss: 0.4832 - val_acc: 0.8000\n",
            "Epoch 142/200\n",
            "15/15 [==============================] - 0s 23ms/step - loss: 0.0061 - acc: 1.0000 - val_loss: 0.4850 - val_acc: 0.8667\n",
            "Epoch 143/200\n",
            "15/15 [==============================] - 0s 24ms/step - loss: 0.0058 - acc: 1.0000 - val_loss: 0.4844 - val_acc: 0.8000\n",
            "Epoch 144/200\n",
            "15/15 [==============================] - 0s 23ms/step - loss: 0.0060 - acc: 1.0000 - val_loss: 0.5123 - val_acc: 0.8000\n",
            "Epoch 145/200\n",
            "15/15 [==============================] - 0s 24ms/step - loss: 0.0059 - acc: 1.0000 - val_loss: 0.4717 - val_acc: 0.8667\n",
            "Epoch 146/200\n",
            "15/15 [==============================] - 0s 24ms/step - loss: 0.0058 - acc: 1.0000 - val_loss: 0.4817 - val_acc: 0.8000\n",
            "Epoch 147/200\n",
            "15/15 [==============================] - 0s 24ms/step - loss: 0.0056 - acc: 1.0000 - val_loss: 0.4889 - val_acc: 0.8000\n",
            "Epoch 148/200\n",
            "15/15 [==============================] - 0s 23ms/step - loss: 0.0056 - acc: 1.0000 - val_loss: 0.4747 - val_acc: 0.8667\n",
            "Epoch 149/200\n",
            "15/15 [==============================] - 0s 23ms/step - loss: 0.0054 - acc: 1.0000 - val_loss: 0.5065 - val_acc: 0.7333\n",
            "Epoch 150/200\n",
            "15/15 [==============================] - 0s 24ms/step - loss: 0.0057 - acc: 1.0000 - val_loss: 0.4659 - val_acc: 0.8667\n",
            "Epoch 151/200\n",
            "15/15 [==============================] - 0s 24ms/step - loss: 0.0055 - acc: 1.0000 - val_loss: 0.5386 - val_acc: 0.7333\n",
            "Epoch 152/200\n",
            "15/15 [==============================] - 0s 24ms/step - loss: 0.0074 - acc: 1.0000 - val_loss: 0.4786 - val_acc: 0.8667\n",
            "Epoch 153/200\n",
            "15/15 [==============================] - 1s 43ms/step - loss: 0.0070 - acc: 1.0000 - val_loss: 0.4159 - val_acc: 0.8000\n",
            "Epoch 154/200\n",
            "15/15 [==============================] - 1s 42ms/step - loss: 0.0088 - acc: 1.0000 - val_loss: 0.4464 - val_acc: 0.8667\n",
            "Epoch 155/200\n",
            "15/15 [==============================] - 0s 23ms/step - loss: 0.0064 - acc: 1.0000 - val_loss: 0.5480 - val_acc: 0.8000\n",
            "Epoch 156/200\n",
            "15/15 [==============================] - 0s 24ms/step - loss: 0.0061 - acc: 1.0000 - val_loss: 0.4794 - val_acc: 0.8667\n",
            "Epoch 157/200\n",
            "15/15 [==============================] - 0s 23ms/step - loss: 0.0053 - acc: 1.0000 - val_loss: 0.5395 - val_acc: 0.7333\n",
            "Epoch 158/200\n",
            "15/15 [==============================] - 1s 41ms/step - loss: 0.0048 - acc: 1.0000 - val_loss: 0.4704 - val_acc: 0.8667\n",
            "Epoch 159/200\n",
            "15/15 [==============================] - 1s 42ms/step - loss: 0.0044 - acc: 1.0000 - val_loss: 0.5291 - val_acc: 0.7333\n",
            "Epoch 160/200\n",
            "15/15 [==============================] - 1s 37ms/step - loss: 0.0043 - acc: 1.0000 - val_loss: 0.4948 - val_acc: 0.8000\n",
            "Epoch 161/200\n",
            "15/15 [==============================] - 0s 23ms/step - loss: 0.0038 - acc: 1.0000 - val_loss: 0.4885 - val_acc: 0.8667\n",
            "Epoch 162/200\n",
            "15/15 [==============================] - 0s 23ms/step - loss: 0.0038 - acc: 1.0000 - val_loss: 0.5087 - val_acc: 0.7333\n",
            "Epoch 163/200\n",
            "15/15 [==============================] - 0s 24ms/step - loss: 0.0037 - acc: 1.0000 - val_loss: 0.4838 - val_acc: 0.8000\n",
            "Epoch 164/200\n",
            "15/15 [==============================] - 0s 23ms/step - loss: 0.0035 - acc: 1.0000 - val_loss: 0.4791 - val_acc: 0.8667\n",
            "Epoch 165/200\n",
            "15/15 [==============================] - 0s 24ms/step - loss: 0.0035 - acc: 1.0000 - val_loss: 0.5112 - val_acc: 0.8000\n",
            "Epoch 166/200\n",
            "15/15 [==============================] - 0s 23ms/step - loss: 0.0038 - acc: 1.0000 - val_loss: 0.4704 - val_acc: 0.8667\n",
            "Epoch 167/200\n",
            "15/15 [==============================] - 0s 25ms/step - loss: 0.0034 - acc: 1.0000 - val_loss: 0.4807 - val_acc: 0.8000\n",
            "Epoch 168/200\n",
            "15/15 [==============================] - 0s 23ms/step - loss: 0.0032 - acc: 1.0000 - val_loss: 0.4889 - val_acc: 0.8000\n",
            "Epoch 169/200\n",
            "15/15 [==============================] - 0s 24ms/step - loss: 0.0033 - acc: 1.0000 - val_loss: 0.4848 - val_acc: 0.8667\n",
            "Epoch 170/200\n",
            "15/15 [==============================] - 0s 24ms/step - loss: 0.0033 - acc: 1.0000 - val_loss: 0.4974 - val_acc: 0.8000\n",
            "Epoch 171/200\n",
            "15/15 [==============================] - 0s 24ms/step - loss: 0.0032 - acc: 1.0000 - val_loss: 0.4774 - val_acc: 0.8000\n",
            "Epoch 172/200\n",
            "15/15 [==============================] - 0s 24ms/step - loss: 0.0029 - acc: 1.0000 - val_loss: 0.5045 - val_acc: 0.7333\n",
            "Epoch 173/200\n",
            "15/15 [==============================] - 0s 24ms/step - loss: 0.0030 - acc: 1.0000 - val_loss: 0.4815 - val_acc: 0.8000\n",
            "Epoch 174/200\n",
            "15/15 [==============================] - 0s 24ms/step - loss: 0.0028 - acc: 1.0000 - val_loss: 0.4797 - val_acc: 0.8667\n",
            "Epoch 175/200\n",
            "15/15 [==============================] - 0s 23ms/step - loss: 0.0027 - acc: 1.0000 - val_loss: 0.4947 - val_acc: 0.8000\n",
            "Epoch 176/200\n",
            "15/15 [==============================] - 0s 24ms/step - loss: 0.0029 - acc: 1.0000 - val_loss: 0.4786 - val_acc: 0.8000\n",
            "Epoch 177/200\n",
            "15/15 [==============================] - 0s 23ms/step - loss: 0.0029 - acc: 1.0000 - val_loss: 0.4771 - val_acc: 0.8667\n",
            "Epoch 178/200\n",
            "15/15 [==============================] - 0s 24ms/step - loss: 0.0028 - acc: 1.0000 - val_loss: 0.4886 - val_acc: 0.8000\n",
            "Epoch 179/200\n",
            "15/15 [==============================] - 0s 24ms/step - loss: 0.0028 - acc: 1.0000 - val_loss: 0.4967 - val_acc: 0.8000\n",
            "Epoch 180/200\n",
            "15/15 [==============================] - 0s 23ms/step - loss: 0.0034 - acc: 1.0000 - val_loss: 0.4620 - val_acc: 0.8000\n",
            "Epoch 181/200\n",
            "15/15 [==============================] - 0s 23ms/step - loss: 0.0028 - acc: 1.0000 - val_loss: 0.5192 - val_acc: 0.8000\n",
            "Epoch 182/200\n",
            "15/15 [==============================] - 1s 34ms/step - loss: 0.0028 - acc: 1.0000 - val_loss: 0.4904 - val_acc: 0.8000\n",
            "Epoch 183/200\n",
            "15/15 [==============================] - 1s 40ms/step - loss: 0.0023 - acc: 1.0000 - val_loss: 0.4986 - val_acc: 0.8667\n",
            "Epoch 184/200\n",
            "15/15 [==============================] - 1s 39ms/step - loss: 0.0024 - acc: 1.0000 - val_loss: 0.4901 - val_acc: 0.8000\n",
            "Epoch 185/200\n",
            "15/15 [==============================] - 1s 38ms/step - loss: 0.0023 - acc: 1.0000 - val_loss: 0.5013 - val_acc: 0.8000\n",
            "Epoch 186/200\n",
            "15/15 [==============================] - 1s 40ms/step - loss: 0.0025 - acc: 1.0000 - val_loss: 0.5060 - val_acc: 0.8667\n",
            "Epoch 187/200\n",
            "15/15 [==============================] - 0s 24ms/step - loss: 0.0030 - acc: 1.0000 - val_loss: 0.4844 - val_acc: 0.8000\n",
            "Epoch 188/200\n",
            "15/15 [==============================] - 0s 24ms/step - loss: 0.0023 - acc: 1.0000 - val_loss: 0.4918 - val_acc: 0.8000\n",
            "Epoch 189/200\n",
            "15/15 [==============================] - 0s 24ms/step - loss: 0.0021 - acc: 1.0000 - val_loss: 0.4835 - val_acc: 0.8000\n",
            "Epoch 190/200\n",
            "15/15 [==============================] - 0s 24ms/step - loss: 0.0021 - acc: 1.0000 - val_loss: 0.4781 - val_acc: 0.8000\n",
            "Epoch 191/200\n",
            "15/15 [==============================] - 0s 23ms/step - loss: 0.0021 - acc: 1.0000 - val_loss: 0.4854 - val_acc: 0.8000\n",
            "Epoch 192/200\n",
            "15/15 [==============================] - 0s 23ms/step - loss: 0.0023 - acc: 1.0000 - val_loss: 0.5125 - val_acc: 0.7333\n",
            "Epoch 193/200\n",
            "15/15 [==============================] - 0s 23ms/step - loss: 0.0021 - acc: 1.0000 - val_loss: 0.4755 - val_acc: 0.8000\n",
            "Epoch 194/200\n",
            "15/15 [==============================] - 0s 24ms/step - loss: 0.0020 - acc: 1.0000 - val_loss: 0.4969 - val_acc: 0.8000\n",
            "Epoch 195/200\n",
            "15/15 [==============================] - 0s 24ms/step - loss: 0.0020 - acc: 1.0000 - val_loss: 0.4905 - val_acc: 0.8000\n",
            "Epoch 196/200\n",
            "15/15 [==============================] - 0s 24ms/step - loss: 0.0020 - acc: 1.0000 - val_loss: 0.4894 - val_acc: 0.8000\n",
            "Epoch 197/200\n",
            "15/15 [==============================] - 0s 24ms/step - loss: 0.0018 - acc: 1.0000 - val_loss: 0.4845 - val_acc: 0.8000\n",
            "Epoch 198/200\n",
            "15/15 [==============================] - 0s 24ms/step - loss: 0.0019 - acc: 1.0000 - val_loss: 0.4987 - val_acc: 0.8667\n",
            "Epoch 199/200\n",
            "15/15 [==============================] - 0s 24ms/step - loss: 0.0019 - acc: 1.0000 - val_loss: 0.4941 - val_acc: 0.8000\n",
            "Epoch 200/200\n",
            "15/15 [==============================] - 0s 24ms/step - loss: 0.0018 - acc: 1.0000 - val_loss: 0.4858 - val_acc: 0.8000\n"
          ]
        }
      ]
    },
    {
      "cell_type": "markdown",
      "metadata": {
        "id": "7h2kqqa0tpx9"
      },
      "source": [
        "**9. Model saving**"
      ]
    },
    {
      "cell_type": "code",
      "metadata": {
        "id": "AMlZWxBhnfjh"
      },
      "source": [
        "model.save('covid_classification.h5')"
      ],
      "execution_count": 22,
      "outputs": []
    },
    {
      "cell_type": "markdown",
      "metadata": {
        "id": "v64VrifGtsSn"
      },
      "source": [
        "**10. Model loading**"
      ]
    },
    {
      "cell_type": "code",
      "metadata": {
        "id": "h5kAXwzBoIzp"
      },
      "source": [
        "from tensorflow.keras import models\n",
        "model = models.load_model('covid_classification.h5')"
      ],
      "execution_count": 23,
      "outputs": []
    },
    {
      "cell_type": "markdown",
      "metadata": {
        "id": "EuGiWfjQtvDq"
      },
      "source": [
        "**11. Model weights saving**"
      ]
    },
    {
      "cell_type": "code",
      "metadata": {
        "id": "brmKRhGtoZVA"
      },
      "source": [
        "model.save_weights('covid_classification_weights.h5')"
      ],
      "execution_count": 24,
      "outputs": []
    },
    {
      "cell_type": "markdown",
      "metadata": {
        "id": "g_mHfakptxUF"
      },
      "source": [
        "**12. Model weights loading**"
      ]
    },
    {
      "cell_type": "code",
      "metadata": {
        "id": "Oc3YG_vioL9a"
      },
      "source": [
        "model.load_weights('covid_classification_weights.h5')"
      ],
      "execution_count": 25,
      "outputs": []
    },
    {
      "cell_type": "markdown",
      "metadata": {
        "id": "YJhgz0AAtzcm"
      },
      "source": [
        "**13. Plotting accuracy and loss graph for training and validation dataset**"
      ]
    },
    {
      "cell_type": "code",
      "metadata": {
        "id": "lKLbBshSocU6"
      },
      "source": [
        "train_acc = history.history['acc']\n",
        "val_acc = history.history['val_acc']\n",
        "train_loss = history.history['loss']\n",
        "val_loss = history.history['val_loss']"
      ],
      "execution_count": 26,
      "outputs": []
    },
    {
      "cell_type": "code",
      "metadata": {
        "id": "BfqOqEpVogvN",
        "colab": {
          "base_uri": "https://localhost:8080/",
          "height": 904
        },
        "outputId": "afe5673d-d4e1-401d-d3c7-0a063a60ec3e"
      },
      "source": [
        "import matplotlib.pyplot as plt\n",
        "epochs = range(len(train_acc))\n",
        "plt.plot(epochs, train_acc, 'b', label='Training Accuracy')\n",
        "plt.plot(epochs, val_acc, 'r', label='Validation Accuracy')\n",
        "plt.title('Training and Validation Accuracy')\n",
        "plt.legend()\n",
        "plt.figure()\n",
        "plt.show()\n",
        "\n",
        "plt.plot(epochs, train_loss, 'b', label='Training Loss')\n",
        "plt.plot(epochs, val_loss, 'r', label='Validation Loss')\n",
        "plt.title('Training and Validation Loss')\n",
        "plt.legend()\n",
        "plt.show()\n"
      ],
      "execution_count": 27,
      "outputs": [
        {
          "output_type": "display_data",
          "data": {
            "text/plain": [
              "<Figure size 640x480 with 1 Axes>"
            ],
            "image/png": "[encoded data removed]"
          },
          "metadata": {}
        },
        {
          "output_type": "display_data",
          "data": {
            "text/plain": [
              "<Figure size 640x480 with 0 Axes>"
            ]
          },
          "metadata": {}
        },
        {
          "output_type": "display_data",
          "data": {
            "text/plain": [
              "<Figure size 640x480 with 1 Axes>"
            ],
            "image/png": "[encoded data removed]"
          },
          "metadata": {}
        }
      ]
    },
    {
      "cell_type": "markdown",
      "metadata": {
        "id": "LoVhONtnt3sq"
      },
      "source": [
        "**14. Evaluate model performance on test dataset**"
      ]
    },
    {
      "cell_type": "code",
      "metadata": {
        "id": "dxXMTffHoiVy",
        "colab": {
          "base_uri": "https://localhost:8080/"
        },
        "outputId": "45e7b7e0-375c-464b-c0f3-8980406b504b"
      },
      "source": [
        "test_output= model.evaluate(test_generator, steps=test_generator.samples/test_generator.batch_size, verbose=1)\n",
        "print(test_output)\n",
        "print(model.metrics_names)"
      ],
      "execution_count": 19,
      "outputs": [
        {
          "output_type": "stream",
          "name": "stdout",
          "text": [
            "1/1 [==============================] - 0s 38ms/step - loss: 1.0986 - acc: 0.3333\n",
            "[1.098612666130066, 0.3333333432674408]\n",
            "['loss', 'acc']\n"
          ]
        }
      ]
    },
    {
      "cell_type": "code",
      "source": [],
      "metadata": {
        "id": "pvx8AnlQKIrF"
      },
      "execution_count": 19,
      "outputs": []
    },
    {
      "cell_type": "markdown",
      "metadata": {
        "id": "inzAGua1o1we"
      },
      "source": [
        "References:\n",
        "\n",
        "1. https://pypi.org/project/split-folders/\n",
        "2. https://keras.io/"
      ]
    }
  ]
}